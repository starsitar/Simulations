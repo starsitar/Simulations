{
 "cells": [
  {
   "cell_type": "markdown",
   "metadata": {},
   "source": [
    "# Mesa ABM of the Keep Threshold Relay"
   ]
  },
  {
   "cell_type": "markdown",
   "metadata": {},
   "source": [
    "### Simulation notes and instructions"
   ]
  },
  {
   "cell_type": "markdown",
   "metadata": {},
   "source": [
    "Notes:\n",
    "* Nodes are created simulataneously using the Mesa SimultaneousActivation scheduler\n",
    "* The nodes go through a bootstrap phase based on Antonio's diagram. They can only form groups if they are in the mainloop forked state.\n",
    "* Relay requests are currently bernoulli trials\n",
    "* Each step could be assumed to be a block\n",
    "* Singature events are modeled by default as asynchronous with a step delay to mimick the block delay\n",
    "* We assume that 1 node = 1 staker\n",
    "\n",
    "Instructions:\n",
    "1. Change variables\n",
    "3. Pick the distribution you want to try be changing it from markdown to code\n",
    "2. Click on the restart and run kernel icon for ipython\n"
   ]
  },
  {
   "cell_type": "code",
   "execution_count": 1,
   "metadata": {},
   "outputs": [],
   "source": [
    "import random\n",
    "import datetime\n",
    "import numpy as np\n",
    "import pandas as pd\n",
    "import agent\n",
    "import model\n",
    "import matplotlib.pyplot as plt"
   ]
  },
  {
   "cell_type": "markdown",
   "metadata": {},
   "source": [
    "**Initialize Variables**\n",
    "\n",
    "The following variables determine how the simulation will perform. Each variable has a comment beside it describing what it means. We suggest you change individual variables one at a time and run the simulation each time to see how they impact the simulation."
   ]
  },
  {
   "cell_type": "code",
   "execution_count": 2,
   "metadata": {},
   "outputs": [],
   "source": [
    "#Glossary: https://github.com/keep-network/keep-core/blob/master/docs/glossary.adoc\n",
    "\n",
    "# Group & Signature Parameters\n",
    "group_size = 100 # number of virtual stakers in a group - nodes to stakers is a 1-many relationship\n",
    "active_group_threshold =10 # number of active groups to bootstrap at start\n",
    "min_nodes = 40 # min number of nodes that must be online so as to increase the likelihood of lower max ownership\n",
    "max_malicious_threshold = 0.25 # % of malicious node ownership needed to sign (used to determine lynchpin)\n",
    "signature_delay = 2 # lambda for poisson distribution used to generate a delay before the signature is executed\n",
    "group_expiry = 14 # number of steps after which a group expires\n",
    "\n",
    "#Misbehaving_nodes = 25 # percent of nodes misbehaving during dkg\n",
    "dkg_block_delay = 14 # blocks needed to run DKG\n",
    "compromised_threshold = 0.3 # malicious > threshold = compromised\n",
    "failed_signature_threshold = 0.6 # % of offline nodes causing a signature to fail\n",
    "min_stake_amount = 100 # min amount required to stake a node\n",
    "self_operator_mode = 1 # options[1,2]: 1- Nodes = Total Stake/Min Stake; 2- Nodes = 1 per owner\n",
    "\n",
    "#Node parameters\n",
    "node_failure_percent = 10 # % of times nodes fail and have to reconnect\n",
    "node_death_percent = 5 # % of time nodes fail and do not reconnect\n",
    "node_connection_delay = 5 # max delay for a node to connect or reconnect after failure\n",
    "node_mainloop_connection_delay = 3 # max delay for a node to fork or refork mainloop after failure\n",
    "\n",
    "#operator parameters\n",
    "malicious_operator_percent = 0.3\n",
    "number_of_owners = 100\n",
    "\n",
    "#Model Parameters\n",
    "log_filename = 'master_sim.log'\n",
    "run_number = 0\n",
    "steps = 1000 #blocks"
   ]
  },
  {
   "cell_type": "markdown",
   "metadata": {},
   "source": [
    "**Creating the virtual staker distributions**\n",
    "\n",
    "The code below assignes virtual stakers to each node based on the specified distribution provided by an excel file. The values are converted to int. \n",
    "\n",
    "1. *Current Keep distribution*\n",
    "\n",
    "The excel file here contains data on current keep staker distributions. The values are also proportional reduced by a factor of 10000 to reduce computation time."
   ]
  },
  {
   "cell_type": "markdown",
   "metadata": {},
   "source": [
    "distribution_data = pd.read_csv('token_distribution.csv')\n",
    "stake_distribution = []\n",
    "for value in distribution_data.values.tolist():\n",
    "    if value[0] != \"#NAME?\":\n",
    "        if float(value[0]) > 0 :\n",
    "            stake_distribution.append(int(float(value[0])/10000))\n",
    "\n",
    "nodes = len(stake_distribution)\n",
    "stake_distribution.sort()\n",
    "x = np.linspace(1,nodes,nodes)\n",
    "plt.subplot(2, 1, 1)\n",
    "plt.bar(x, stake_distribution)\n",
    "plt.title(\"Virtual Staker Distribution\")"
   ]
  },
  {
   "cell_type": "markdown",
   "metadata": {},
   "source": [
    "2. **Linear distribution**\n",
    "\n",
    "A standard linear distribution. This distribution is probably more decentralized than the Keep or Eth distributions"
   ]
  },
  {
   "cell_type": "code",
   "execution_count": 3,
   "metadata": {},
   "outputs": [
    {
     "data": {
      "text/plain": [
       "Text(0.5, 1.0, 'Virtual Staker Distribution')"
      ]
     },
     "execution_count": 3,
     "metadata": {},
     "output_type": "execute_result"
    },
    {
     "data": {
      "image/png": "[encoded data removed]",
      "text/plain": [
       "<Figure size 432x288 with 1 Axes>"
      ]
     },
     "metadata": {
      "needs_background": "light"
     },
     "output_type": "display_data"
    }
   ],
   "source": [
    "stake_distribution = np.zeros(number_of_owners) \n",
    "\n",
    "for i in range (0, number_of_owners):\n",
    "    stake_distribution[i] =  10 * (i + 1) # m = 50 gives max y as 1000 which is 2% of 50000\n",
    "\n",
    "x = np.linspace(1,number_of_owners,number_of_owners)\n",
    "plt.subplot(2, 1, 1)\n",
    "plt.bar(x, stake_distribution)\n",
    "plt.title(\"Virtual Staker Distribution\")\n"
   ]
  },
  {
   "cell_type": "markdown",
   "metadata": {},
   "source": [
    "3. **Eth Distribution**\n",
    "\n",
    "Top 32% of eth account holders by ownership percent. This is currently the default that the sim starts with"
   ]
  },
  {
   "cell_type": "markdown",
   "metadata": {},
   "source": [
    "distribution_data = pd.read_csv('eth_distr.csv')\n",
    "ticket_distribution = []\n",
    "val = ''\n",
    "for value in distribution_data.values.tolist():\n",
    "    val = float(value[0].strip('%'))\n",
    "    ticket_distribution.append(val*1000)\n",
    "        \n",
    "nodes = len(ticket_distribution)\n",
    "ticket_distribution.sort()\n",
    "x = np.linspace(1,nodes,nodes)\n",
    "plt.subplot(2, 1, 1)\n",
    "plt.bar(x, ticket_distribution)\n",
    "plt.title(\"Virtual Staker Distribution\")"
   ]
  },
  {
   "cell_type": "markdown",
   "metadata": {},
   "source": [
    "**Initialize the model**\n",
    "\n",
    "Intializing the model and agents"
   ]
  },
  {
   "cell_type": "code",
   "execution_count": null,
   "metadata": {
    "scrolled": true
   },
   "outputs": [
    {
     "name": "stdout",
     "output_type": "stream",
     "text": [
      "creating nodes\n"
     ]
    }
   ],
   "source": [
    "beacon_model = model.Beacon_Model(stake_distribution, \n",
    "                                  active_group_threshold, \n",
    "                                  group_size, \n",
    "                                  max_malicious_threshold, \n",
    "                                  group_expiry, \n",
    "                                  node_failure_percent, \n",
    "                                  node_death_percent, \n",
    "                                  signature_delay,\n",
    "                                  min_nodes,\n",
    "                                  node_connection_delay,\n",
    "                                  node_mainloop_connection_delay,\n",
    "                                  log_filename,\n",
    "                                  run_number,\n",
    "                                  dkg_block_delay,\n",
    "                                  compromised_threshold,\n",
    "                                  failed_signature_threshold,\n",
    "                                  min_stake_amount,\n",
    "                                  self_operator_mode,\n",
    "                                  malicious_operator_percent\n",
    "                                 )\n"
   ]
  },
  {
   "cell_type": "markdown",
   "metadata": {},
   "source": [
    "**Stepping throgh the model**\n",
    "\n",
    "The model steps through and changes the state of each agent at each step. The MESA data collector collects data on agent and model state at each step."
   ]
  },
  {
   "cell_type": "code",
   "execution_count": null,
   "metadata": {},
   "outputs": [
    {
     "name": "stderr",
     "output_type": "stream",
     "text": [
      "/Library/Frameworks/Python.framework/Versions/3.7/lib/python3.7/site-packages/numpy/core/fromnumeric.py:2920: RuntimeWarning: Mean of empty slice.\n",
      "  out=out, **kwargs)\n",
      "/Library/Frameworks/Python.framework/Versions/3.7/lib/python3.7/site-packages/numpy/core/_methods.py:85: RuntimeWarning: invalid value encountered in double_scalars\n",
      "  ret = ret.dtype.type(ret / rcount)\n"
     ]
    }
   ],
   "source": [
    "import time\n",
    "\n",
    "active_group_size = []\n",
    "signature_failures = []\n",
    "start_time = time.time()\n",
    "for i in range (steps):\n",
    "    beacon_model.step()\n",
    "print(\"--- %s seconds ---\" % (time.time() - start_time))\n",
    "\n",
    "\n",
    "model_data = beacon_model.datacollector.get_model_vars_dataframe() \n",
    "agent_data = beacon_model.datacollector.get_agent_vars_dataframe()"
   ]
  },
  {
   "cell_type": "markdown",
   "metadata": {},
   "source": [
    "**Number of Active Groups**\n",
    "\n",
    "The plot below shows a histogram of the number of active groups available at each step. Active groups increase due to the registration of new groups, which occurs when a relay entry is requested. Active groups remain active for the number of steps set by the group_expiry parameter. "
   ]
  },
  {
   "cell_type": "code",
   "execution_count": null,
   "metadata": {},
   "outputs": [],
   "source": [
    "model_data.plot(kind='hist', legend = True, y = ['# of Active Groups'], figsize = (10,5))\n",
    "plt.xlabel(\"# of active groups\")\n",
    "plt.ylabel(\"frequency\")"
   ]
  },
  {
   "cell_type": "markdown",
   "metadata": {},
   "source": [
    "**Active Groups, Node, and Signatures**\n",
    "\n",
    "Active Groups: Active groups available at every step. Same as above active groups are created when a relay entry occurs and a group is successfully registered\n",
    "\n",
    "Active Nodes: Active nodes are nodes in the staked status. This is based on the node state diagram provided by Antonio\n",
    "\n",
    "Number of Signatures: Signatures completed in aggregate including those considered to have failed based on the number of offline nodes."
   ]
  },
  {
   "cell_type": "code",
   "execution_count": null,
   "metadata": {},
   "outputs": [],
   "source": [
    "model_data.plot(kind='line', legend = True, y = ['# of Active Groups', '# of Active Nodes', '# of Signatures' ], figsize = (10,5))\n",
    "plt.xlabel(\"steps (Blocks)\")\n",
    "plt.show\n"
   ]
  },
  {
   "cell_type": "markdown",
   "metadata": {},
   "source": [
    "**Median Malicious, Lynchpin, & Failure %**\n",
    "\n",
    "Median Malicious Group % : We take the poppulation of groups and calculate median malicious ownership of the groups from the malicious % property of the group agent. The malicious ownership % is the percentage of the groups virtual stakers owned by malicious nodes.\n",
    "\n",
    "Median Lynchpin Group % : Similar to above we take the Lynchpin % property of each group and find the median at each step. The Lynchpin % = %owned by 1 node + Offline nodes\n",
    "\n",
    "Median Failure % : Signature failures are determined by the offline % evaluated against the failed signature threshold set above. Signatures with % of nodes offline > than the threshold are considered to have failed. Once again we calculate the median at each step."
   ]
  },
  {
   "cell_type": "code",
   "execution_count": null,
   "metadata": {},
   "outputs": [],
   "source": [
    "model_data.plot(kind='line', legend = True, y = ['Median Malicious Group %','Median Lynchpin %', 'Failed Singature %'], figsize = (10,5))\n",
    "plt.xlabel(\"steps (Blocks)\")\n",
    "plt.show"
   ]
  },
  {
   "cell_type": "markdown",
   "metadata": {},
   "source": [
    "**Compromised Groups & Dominated Signatures**\n",
    "\n",
    "% Compromised Groups: % of total groups designated as compromised based on the compromised threshold set above\n",
    "\n",
    "% Dominated signatures: % of signatures desiganted as dominated based on the max malicious threshold set above"
   ]
  },
  {
   "cell_type": "code",
   "execution_count": null,
   "metadata": {},
   "outputs": [],
   "source": [
    "model_data.plot(kind='line', legend = True, y = ['% Compromised Groups','% Lynchpinned signatures'], figsize = (10,5))\n",
    "plt.xlabel(\"steps (Blocks)\")\n",
    "plt.show\n"
   ]
  },
  {
   "cell_type": "code",
   "execution_count": null,
   "metadata": {
    "scrolled": true
   },
   "outputs": [],
   "source": [
    "\n",
    "data = agent_data[(agent_data['Type']=='node')]# & (agent_data['Step']==400) ]\n",
    "np.shape(agent_data)\n",
    "data.loc[100]\n",
    "\n",
    "#data['Ownership Distribution'][3]\n"
   ]
  },
  {
   "cell_type": "code",
   "execution_count": null,
   "metadata": {
    "scrolled": true
   },
   "outputs": [],
   "source": [
    "data.loc[:,'Owner'].hist()"
   ]
  },
  {
   "cell_type": "code",
   "execution_count": null,
   "metadata": {},
   "outputs": [],
   "source": [
    "{i : np.random.randint(100)<30 for i in range(20)}"
   ]
  },
  {
   "cell_type": "code",
   "execution_count": null,
   "metadata": {},
   "outputs": [],
   "source": [
    "model_data.loc[50:]"
   ]
  },
  {
   "cell_type": "code",
   "execution_count": null,
   "metadata": {},
   "outputs": [],
   "source": []
  }
 ],
 "metadata": {
  "kernelspec": {
   "display_name": "Python 3",
   "language": "python",
   "name": "python3"
  },
  "language_info": {
   "codemirror_mode": {
    "name": "ipython",
    "version": 3
   },
   "file_extension": ".py",
   "mimetype": "text/x-python",
   "name": "python",
   "nbconvert_exporter": "python",
   "pygments_lexer": "ipython3",
   "version": "3.7.1"
  }
 },
 "nbformat": 4,
 "nbformat_minor": 2
}
