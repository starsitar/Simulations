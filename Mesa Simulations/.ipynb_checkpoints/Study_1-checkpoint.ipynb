{
 "cells": [
  {
   "cell_type": "markdown",
   "metadata": {},
   "source": [
    "# Keep Random Beacon Simulation - Study 1\n",
    "## Analyzing the effect of group size and node failures on dominator rates\n",
    "\n",
    "This study seeks to understand the impact of group size and node failure rates on number of nodes that can become dominators of a group. The study uses the Keep Random Beacon Simulation (see simulation master).\n",
    "\n",
    "To perform the study we run the simulation 1000 times for a given tuple of group size and failure rate. We leave the node death rate as constant, so all nodes are assumed to reconnect after failure.\n"
   ]
  },
  {
   "cell_type": "markdown",
   "metadata": {},
   "source": [
    "## Initializing Variables\n",
    "\n",
    "Variables are initialized similar to the master sim except for:\n",
    "* group_size -> group_size_array: This is changed to an array of group sizes \n",
    "* node_failure_percent -> node_failure_percent_array: this is changed to an array of failure %'s "
   ]
  },
  {
   "cell_type": "code",
   "execution_count": 1,
   "metadata": {},
   "outputs": [],
   "source": [
    "import random\n",
    "import datetime\n",
    "import numpy as np\n",
    "import pandas as pd\n",
    "import agent\n",
    "import model\n",
    "import matplotlib.pyplot as plt\n",
    "\n",
    "# Group & Signature Parameters\n",
    "group_size_array = [10, 20, 30, 40, 50, 60, 70]# number of virtual stakers in a group - nodes to stakers is a 1-many relationship\n",
    "nodes = 100 # total number of nodes (assume 1 node = 1 staker)\n",
    "active_group_threshold =10 # number of active groups to bootstrap at start\n",
    "min_nodes = 3 # min number of nodes that must be online so as to increase the likelihood of lower max ownership\n",
    "max_malicious_threshold = 50 # % of malicious node ownership needed to sign\n",
    "signature_delay = 2 # lambda for poisson distribution used to generate a delay before the signature is executed\n",
    "group_expiry = 10 # number of steps after which a group expires\n",
    "Misbehaving_DKG_nodes = 10 # percent of nodes misbehaving during dkg\n",
    "dkg_block_delay = 3 # blocks needed to run DKG\n",
    "\n",
    "#Node parameters\n",
    "node_failure_percent_array = [10, 20, 30, 40, 50, 60, 70] # % of times nodes fail and have to reconnect\n",
    "node_death_percent = 2 # % of time nodes fail and do not reconnect\n",
    "node_connection_delay = 3 # max delay for a node to connect or reconnect after failure\n",
    "node_mainloop_connection_delay = 3 # max delay for a node to fork or refork mainloop after failure\n",
    "\n",
    "#Model Parameters\n",
    "log_filename = 'group_failure_dominator_study.log'\n",
    "runs = 10\n",
    "steps = 100"
   ]
  },
  {
   "cell_type": "markdown",
   "metadata": {},
   "source": [
    "## Generating ticket distribution for each node\n",
    "\n",
    "The ticket distribution determines how many tickets a node will generate during the group registration process. The charts below help visualize the shape of the distribution. The x-axis is the Node ID, and the y-axis shows the number of tickets for a node. Since the ticket selection process is uniform random we expect that the number of virtual stakers owned by a node in a group will be proportional to the number of tickets they generate. This has been validated by a previous analysis."
   ]
  },
  {
   "cell_type": "code",
   "execution_count": 2,
   "metadata": {},
   "outputs": [
    {
     "data": {
      "text/plain": [
       "Text(0.5, 1.0, 'Virtual Staker Cumulative Distribution')"
      ]
     },
     "execution_count": 2,
     "metadata": {},
     "output_type": "execute_result"
    },
    {
     "data": {
      "image/png": "[encoded data removed]",
      "text/plain": [
       "<Figure size 432x288 with 2 Axes>"
      ]
     },
     "metadata": {
      "needs_background": "light"
     },
     "output_type": "display_data"
    }
   ],
   "source": [
    "# Linear y = m * (x + 1) since indices start from 0\n",
    "ticket_distribution = np.zeros(nodes) \n",
    "\n",
    "for i in range (0, nodes):\n",
    "    ticket_distribution[i] =  10 * (i + 1) # m = 50 gives max y as 1000 which is 2% of 50000\n",
    "\n",
    "x = np.linspace(1,nodes,nodes)\n",
    "plt.subplot(2, 1, 1)\n",
    "plt.bar(x, ticket_distribution)\n",
    "plt.title(\"Virtual Staker Distribution\")\n",
    "\n",
    "cdf_L02=model.create_cdf(nodes,ticket_distribution)\n",
    "plt.subplot(2, 1, 2)\n",
    "plt.bar(x, cdf_L02)\n",
    "plt.title(\"Virtual Staker Cumulative Distribution\")"
   ]
  },
  {
   "cell_type": "markdown",
   "metadata": {},
   "source": [
    "## Run the model & measure the parameters of interest"
   ]
  },
  {
   "cell_type": "code",
   "execution_count": 3,
   "metadata": {},
   "outputs": [
    {
     "ename": "TypeError",
     "evalue": "__init__() missing 1 required positional argument: 'dkg_block_delay'",
     "output_type": "error",
     "traceback": [
      "\u001b[0;31m---------------------------------------------------------------------------\u001b[0m",
      "\u001b[0;31mTypeError\u001b[0m                                 Traceback (most recent call last)",
      "\u001b[0;32m<ipython-input-3-1599c75be1d4>\u001b[0m in \u001b[0;36m<module>\u001b[0;34m\u001b[0m\n\u001b[1;32m     24\u001b[0m                                           \u001b[0mnode_mainloop_connection_delay\u001b[0m\u001b[0;34m,\u001b[0m\u001b[0;34m\u001b[0m\u001b[0;34m\u001b[0m\u001b[0m\n\u001b[1;32m     25\u001b[0m                                           \u001b[0mlog_filename\u001b[0m\u001b[0;34m,\u001b[0m\u001b[0;34m\u001b[0m\u001b[0;34m\u001b[0m\u001b[0m\n\u001b[0;32m---> 26\u001b[0;31m                                           Misbehaving_DKG_nodes,dkg_block_delay)\n\u001b[0m\u001b[1;32m     27\u001b[0m             \u001b[0;32mfor\u001b[0m \u001b[0mi\u001b[0m \u001b[0;32min\u001b[0m \u001b[0mrange\u001b[0m \u001b[0;34m(\u001b[0m\u001b[0msteps\u001b[0m\u001b[0;34m)\u001b[0m\u001b[0;34m:\u001b[0m\u001b[0;34m\u001b[0m\u001b[0;34m\u001b[0m\u001b[0m\n\u001b[1;32m     28\u001b[0m                 \u001b[0;31m# step the model\u001b[0m\u001b[0;34m\u001b[0m\u001b[0;34m\u001b[0m\u001b[0;34m\u001b[0m\u001b[0m\n",
      "\u001b[0;31mTypeError\u001b[0m: __init__() missing 1 required positional argument: 'dkg_block_delay'"
     ]
    }
   ],
   "source": [
    "#initialize parameter measures\n",
    "dominator_distributions_2 = []\n",
    "total_dominator_percents_2 = []\n",
    "dominator_medians_2 = []\n",
    "for node_failure_percent in node_failure_percent_array:\n",
    "    dominator_distributions_1 = []\n",
    "    total_dominator_percents_1 = []\n",
    "    dominator_medians_1 = []\n",
    "    for group_size in group_size_array:\n",
    "        dominator_distributions = []\n",
    "        total_dominator_percents = []\n",
    "        for run_number in range(runs):\n",
    "            # initialize the model\n",
    "            beacon_model = model.Beacon_Model(nodes, ticket_distribution, \n",
    "                                          active_group_threshold, \n",
    "                                          group_size, \n",
    "                                          max_malicious_threshold, \n",
    "                                          group_expiry, \n",
    "                                          node_failure_percent, \n",
    "                                          node_death_percent, \n",
    "                                          signature_delay,\n",
    "                                          min_nodes,\n",
    "                                          node_connection_delay,\n",
    "                                          node_mainloop_connection_delay,\n",
    "                                          log_filename,\n",
    "                                          run_number,Misbehaving_DKG_nodes,dkg_block_delay)\n",
    "            for i in range (steps):\n",
    "                # step the model\n",
    "                beacon_model.step()\n",
    "                # Calculate the dominator distribution and totals for each run\n",
    "                dominator_distr = np.zeros(nodes)\n",
    "                signature_count = 0\n",
    "                for signature in beacon_model.schedule.agents:\n",
    "                    if signature.type == \"signature\":\n",
    "                        signature_count+=1\n",
    "                        if signature.dominator_id>=0:\n",
    "                            dominator_distr[signature.dominator_id] += 1 #count only if a dominator id has been set\n",
    "            dominator_distributions.append(dominator_distr)\n",
    "            total_dominator_percents.append(round(sum(dominator_distr)/signature_count*100,1))\n",
    "        dominator_distributions_1.append(dominator_distributions)\n",
    "        total_dominator_percents_1.append(total_dominator_percents)\n",
    "        dominator_medians_1.append(np.median(total_dominator_percents))\n",
    "    dominator_distributions_2.append(dominator_distributions_1)\n",
    "    total_dominator_percents_2.append(total_dominator_percents_1)\n",
    "    dominator_medians_2.append(dominator_medians_1)\n"
   ]
  },
  {
   "cell_type": "code",
   "execution_count": null,
   "metadata": {},
   "outputs": [],
   "source": [
    "import pandas as pd\n",
    "df = pd.DataFrame(dominator_medians_2, columns= group_size_array)\n",
    "df.insert(0,'Failure %',node_failure_percent_array)\n",
    "df.set_index('Failure %')\n",
    "df\n"
   ]
  },
  {
   "cell_type": "markdown",
   "metadata": {},
   "source": [
    "How many are unable to produce a signature?\n",
    "cannot produce a signature if number of virtual stakers online is < min_honest threshold\n",
    "dominator is when max owner + failed nodes  > max_malicious (need to change in current)\n",
    "\n",
    "move sim to new repo\n",
    "check if colab can be run on separate infrastructure to google"
   ]
  },
  {
   "cell_type": "code",
   "execution_count": null,
   "metadata": {},
   "outputs": [],
   "source": []
  }
 ],
 "metadata": {
  "kernelspec": {
   "display_name": "Python 3",
   "language": "python",
   "name": "python3"
  },
  "language_info": {
   "codemirror_mode": {
    "name": "ipython",
    "version": 3
   },
   "file_extension": ".py",
   "mimetype": "text/x-python",
   "name": "python",
   "nbconvert_exporter": "python",
   "pygments_lexer": "ipython3",
   "version": "3.7.1"
  }
 },
 "nbformat": 4,
 "nbformat_minor": 2
}
