{
 "cells": [
  {
   "cell_type": "markdown",
   "metadata": {},
   "source": [
    "# Mesa ABM of the Keep Threshold Relay"
   ]
  },
  {
   "cell_type": "markdown",
   "metadata": {},
   "source": [
    "### Simulation notes and instructions"
   ]
  },
  {
   "cell_type": "markdown",
   "metadata": {},
   "source": [
    "Notes:\n",
    "* Nodes are created simulataneously using the Mesa SimultaneousActivation scheduler\n",
    "* The nodes go through a bootstrap phase based on Antonio's diagram. They can only form groups if they are in the mainloop forked state.\n",
    "* Relay requests are currently bernoulli trials\n",
    "* Each step could be assumed to be a block\n",
    "* Singature events are modeled by default as asynchronous with a step delay to mimick the block delay\n",
    "* We assume that 1 node = 1 staker\n",
    "\n",
    "Instructions:\n",
    "1. Change variables\n",
    "2. Click on the restart and run kernel icon for ipython\n"
   ]
  },
  {
   "cell_type": "code",
   "execution_count": 1,
   "metadata": {},
   "outputs": [],
   "source": [
    "import random\n",
    "import datetime\n",
    "import numpy as np\n",
    "import pandas as pd\n",
    "import agent\n",
    "import model\n",
    "import matplotlib.pyplot as plt"
   ]
  },
  {
   "cell_type": "markdown",
   "metadata": {},
   "source": [
    "**Initialize Variables**\n",
    "\n",
    "The following variables determine how the simulation will perform. Each variable has a comment beside it describing what it means. We suggest you change individual variables one at a time and run the simulation each time to see how they impact the simulation."
   ]
  },
  {
   "cell_type": "code",
   "execution_count": 2,
   "metadata": {},
   "outputs": [],
   "source": [
    "# Group & Signature Parameters\n",
    "group_size = 100 # number of virtual stakers in a group - nodes to stakers is a 1-many relationship\n",
    "nodes = 100 # total number of nodes (assume 1 node = 1 staker)\n",
    "active_group_threshold =10 # number of active groups to bootstrap at start\n",
    "min_nodes = 40 # min number of nodes that must be online so as to increase the likelihood of lower max ownership\n",
    "max_malicious_threshold = 0.30 # % of malicious node ownership needed to sign (used to determine dominator/lynchpin)\n",
    "signature_delay = 2 # lambda for poisson distribution used to generate a delay before the signature is executed\n",
    "group_expiry = 14 # number of steps after which a group expires\n",
    "Misbehaving_nodes = 10 # percent of nodes misbehaving during dkg\n",
    "dkg_block_delay = 14 # blocks needed to run DKG\n",
    "compromised_threshold = 0.25 # malicious > threshold = compromised\n",
    "failed_signature_threshold = 0.6 # % of offline nodes causing a signature to fail\n",
    "\n",
    "#Node parameters\n",
    "node_failure_percent = 10 # % of times nodes fail and have to reconnect\n",
    "node_death_percent = 5 # % of time nodes fail and do not reconnect\n",
    "node_connection_delay = 5 # max delay for a node to connect or reconnect after failure\n",
    "node_mainloop_connection_delay = 3 # max delay for a node to fork or refork mainloop after failure\n",
    "\n",
    "#Model Parameters\n",
    "log_filename = 'master_sim.log'\n",
    "run_number = 0\n",
    "steps = 1000 #blocks"
   ]
  },
  {
   "cell_type": "markdown",
   "metadata": {},
   "source": [
    "**Creating the virtual staker distributions**\n",
    "\n",
    "The code below assignes virtual stakers to each node based on the specified distribution. The default is a linear distribution. In the current simulation, virtual stakers also represent tickets for group selection. During group selection, each node produces a number of tickets proportional to the number of virtual stakers. These tickets then help determine participation in a group. The more tickets a node has the more likely it is that a node's virtual stakers will be represented in the group."
   ]
  },
  {
   "cell_type": "code",
   "execution_count": 43,
   "metadata": {},
   "outputs": [
    {
     "data": {
      "text/plain": [
       "[57291666.66666667,\n",
       " 41666666.66666667,\n",
       " 16666666.666666668,\n",
       " 10416666.666666668,\n",
       " 10416666.666666668,\n",
       " 9027777.416666668,\n",
       " 8333333.333333334,\n",
       " 7291666.666666667,\n",
       " 6944444.444444445,\n",
       " 5208333.333333334,\n",
       " 5208333.333333334,\n",
       " 5000000.0,\n",
       " 3366625.833333333,\n",
       " 3333333.6666666665,\n",
       " 3125000.0000000005,\n",
       " 3125000.0000000005,\n",
       " 3124998.3333333335,\n",
       " 2708333.152777778,\n",
       " 2500000.0,\n",
       " 2479903.8333333335,\n",
       " 2447547.6666666665,\n",
       " 2083333.3333333335,\n",
       " 1984126.9841269844,\n",
       " 1885416.2500000002,\n",
       " 1833333.3333333335,\n",
       " 1805555.1944444445,\n",
       " 1667623.0000000002,\n",
       " 1625000.0000000002,\n",
       " 1562500.4166666667,\n",
       " 1249996.4583333333,\n",
       " 1239166.6666666667,\n",
       " 1041666.6666666667,\n",
       " 1041666.0416666667,\n",
       " 868055.5555555556,\n",
       " 857738.6666666666,\n",
       " 833334.6666666667,\n",
       " 833333.3333333334,\n",
       " 833333.3333333334,\n",
       " 831085.5,\n",
       " 666666.1666666667,\n",
       " 520833.3333333334,\n",
       " 520833.3333333334,\n",
       " 451388.88888888893,\n",
       " 451388.88888888893,\n",
       " 243055.55555555556,\n",
       " 198416.6666666667,\n",
       " 138888.8888888889,\n",
       " 138333.33333333334,\n",
       " 40000000.0,\n",
       " 30000000.000000004,\n",
       " 10000000.0,\n",
       " 10000000.0,\n",
       " 2500000.0,\n",
       " 2083333.3333333335,\n",
       " 1250000.0,\n",
       " 1250000.0,\n",
       " 1250000.0,\n",
       " 1250000.0,\n",
       " 833333.3333333334,\n",
       " 625000.0,\n",
       " 520833.3333333334,\n",
       " 416666.6666666667,\n",
       " 416666.6666666667,\n",
       " 750000.0,\n",
       " 750000.0,\n",
       " 2500000.0,\n",
       " 2500000.0,\n",
       " 1562500.0000000002,\n",
       " 1000000.0000000001,\n",
       " 1250000.0,\n",
       " 851916.6666666667,\n",
       " 80010.41666666667]"
      ]
     },
     "execution_count": 43,
     "metadata": {},
     "output_type": "execute_result"
    }
   ],
   "source": [
    "distribution_data = pd.read_excel('~/Downloads/token_distribution.xlsx')\n",
    "ticket_distribution = []\n",
    "for value in distribution_data.values.tolist():\n",
    "    if value[0] > 0 :\n",
    "        ticket_distribution.append(int(value[0]))\n",
    "nodes = len(ticket_distribution)\n",
    "\n",
    "ticket_distribution\n"
   ]
  },
  {
   "cell_type": "markdown",
   "metadata": {},
   "source": [
    "**Initialize the model**\n",
    "\n",
    "Intializing the model and agents"
   ]
  },
  {
   "cell_type": "code",
   "execution_count": 4,
   "metadata": {
    "scrolled": true
   },
   "outputs": [
    {
     "name": "stdout",
     "output_type": "stream",
     "text": [
      "creating nodes\n"
     ]
    },
    {
     "ename": "ValueError",
     "evalue": "cannot convert float NaN to integer",
     "output_type": "error",
     "traceback": [
      "\u001b[0;31m---------------------------------------------------------------------------\u001b[0m",
      "\u001b[0;31mValueError\u001b[0m                                Traceback (most recent call last)",
      "\u001b[0;32m<ipython-input-4-8190b67dcd94>\u001b[0m in \u001b[0;36m<module>\u001b[0;34m\u001b[0m\n\u001b[1;32m     15\u001b[0m                                   \u001b[0mdkg_block_delay\u001b[0m\u001b[0;34m,\u001b[0m\u001b[0;34m\u001b[0m\u001b[0;34m\u001b[0m\u001b[0m\n\u001b[1;32m     16\u001b[0m                                   \u001b[0mcompromised_threshold\u001b[0m\u001b[0;34m,\u001b[0m\u001b[0;34m\u001b[0m\u001b[0;34m\u001b[0m\u001b[0m\n\u001b[0;32m---> 17\u001b[0;31m                                   \u001b[0mfailed_signature_threshold\u001b[0m\u001b[0;34m\u001b[0m\u001b[0;34m\u001b[0m\u001b[0m\n\u001b[0m\u001b[1;32m     18\u001b[0m                                  )\n",
      "\u001b[0;32m~/go/src/github.com/simulations/Mesa Simulations/model.py\u001b[0m in \u001b[0;36m__init__\u001b[0;34m(self, nodes, ticket_distribution, active_group_threshold, group_size, max_malicious_threshold, group_expiry, node_failure_percent, node_death_percent, signature_delay, min_nodes, node_connection_delay, node_mainloop_connection_delay, log_filename, run_number, misbehaving_nodes, dkg_block_delay, compromised_threshold, failed_signature_threshold)\u001b[0m\n\u001b[1;32m     76\u001b[0m             \u001b[0mnode_failure_percent\u001b[0m\u001b[0;34m,\u001b[0m\u001b[0;34m\u001b[0m\u001b[0;34m\u001b[0m\u001b[0m\n\u001b[1;32m     77\u001b[0m             \u001b[0mnode_death_percent\u001b[0m\u001b[0;34m,\u001b[0m\u001b[0;34m\u001b[0m\u001b[0;34m\u001b[0m\u001b[0m\n\u001b[0;32m---> 78\u001b[0;31m             node_connection_delay, node_mainloop_connection_delay, misbehaving_nodes)\n\u001b[0m\u001b[1;32m     79\u001b[0m             \u001b[0mself\u001b[0m\u001b[0;34m.\u001b[0m\u001b[0mnewest_id\u001b[0m \u001b[0;34m=\u001b[0m \u001b[0mi\u001b[0m\u001b[0;34m\u001b[0m\u001b[0;34m\u001b[0m\u001b[0m\n\u001b[1;32m     80\u001b[0m             \u001b[0mself\u001b[0m\u001b[0;34m.\u001b[0m\u001b[0mschedule\u001b[0m\u001b[0;34m.\u001b[0m\u001b[0madd\u001b[0m\u001b[0;34m(\u001b[0m\u001b[0mnode\u001b[0m\u001b[0;34m)\u001b[0m\u001b[0;34m\u001b[0m\u001b[0;34m\u001b[0m\u001b[0m\n",
      "\u001b[0;32m~/go/src/github.com/simulations/Mesa Simulations/agent.py\u001b[0m in \u001b[0;36m__init__\u001b[0;34m(self, unique_id, node_id, model, tickets, failure_percent, death_percent, node_connection_delay, node_mainloop_connection_delay, misbehaving_nodes)\u001b[0m\n\u001b[1;32m     14\u001b[0m         \u001b[0mself\u001b[0m\u001b[0;34m.\u001b[0m\u001b[0mtype\u001b[0m \u001b[0;34m=\u001b[0m \u001b[0;34m\"node\"\u001b[0m\u001b[0;34m\u001b[0m\u001b[0;34m\u001b[0m\u001b[0m\n\u001b[1;32m     15\u001b[0m         \u001b[0mself\u001b[0m\u001b[0;34m.\u001b[0m\u001b[0mnode_id\u001b[0m \u001b[0;34m=\u001b[0m \u001b[0mnode_id\u001b[0m\u001b[0;34m\u001b[0m\u001b[0;34m\u001b[0m\u001b[0m\n\u001b[0;32m---> 16\u001b[0;31m         \u001b[0mself\u001b[0m\u001b[0;34m.\u001b[0m\u001b[0mnum_tickets\u001b[0m \u001b[0;34m=\u001b[0m \u001b[0mint\u001b[0m\u001b[0;34m(\u001b[0m\u001b[0mtickets\u001b[0m\u001b[0;34m)\u001b[0m\u001b[0;34m\u001b[0m\u001b[0;34m\u001b[0m\u001b[0m\n\u001b[0m\u001b[1;32m     17\u001b[0m         \u001b[0mself\u001b[0m\u001b[0;34m.\u001b[0m\u001b[0mticket_list\u001b[0m \u001b[0;34m=\u001b[0m \u001b[0;34m[\u001b[0m\u001b[0;34m]\u001b[0m\u001b[0;34m\u001b[0m\u001b[0;34m\u001b[0m\u001b[0m\n\u001b[1;32m     18\u001b[0m         \u001b[0mself\u001b[0m\u001b[0;34m.\u001b[0m\u001b[0mconnection_status\u001b[0m \u001b[0;34m=\u001b[0m \u001b[0;34m\"not connected\"\u001b[0m \u001b[0;31m#change later to event - currently used for node failure process\u001b[0m\u001b[0;34m\u001b[0m\u001b[0;34m\u001b[0m\u001b[0m\n",
      "\u001b[0;31mValueError\u001b[0m: cannot convert float NaN to integer"
     ]
    }
   ],
   "source": [
    "beacon_model = model.Beacon_Model(nodes, ticket_distribution, \n",
    "                                  active_group_threshold, \n",
    "                                  group_size, \n",
    "                                  max_malicious_threshold, \n",
    "                                  group_expiry, \n",
    "                                  node_failure_percent, \n",
    "                                  node_death_percent, \n",
    "                                  signature_delay,\n",
    "                                  min_nodes,\n",
    "                                  node_connection_delay,\n",
    "                                  node_mainloop_connection_delay,\n",
    "                                  log_filename,\n",
    "                                  run_number,\n",
    "                                  Misbehaving_nodes,\n",
    "                                  dkg_block_delay,\n",
    "                                  compromised_threshold,\n",
    "                                  failed_signature_threshold\n",
    "                                 )\n"
   ]
  },
  {
   "cell_type": "markdown",
   "metadata": {},
   "source": [
    "**Stepping throgh the model**\n",
    "\n",
    "The model steps through and changes the state of each agent at each step. The MESA data collector collects data on agent and model state at each step."
   ]
  },
  {
   "cell_type": "code",
   "execution_count": null,
   "metadata": {
    "scrolled": true
   },
   "outputs": [],
   "source": [
    "active_group_size = []\n",
    "signature_failures = []\n",
    "for i in range (steps):\n",
    "    beacon_model.step()\n",
    "\n",
    "model_data = beacon_model.datacollector.get_model_vars_dataframe() \n",
    "agent_data = beacon_model.datacollector.get_agent_vars_dataframe()"
   ]
  },
  {
   "cell_type": "markdown",
   "metadata": {},
   "source": [
    "**Number of Active Groups**\n",
    "\n",
    "The plot below shows a histogram of the number of active groups available at each step. Active groups increase due to the registration of new groups, which occurs when a relay entry is requested. Active groups remain active for the number of steps set by the group_expiry parameter. "
   ]
  },
  {
   "cell_type": "code",
   "execution_count": null,
   "metadata": {},
   "outputs": [],
   "source": [
    "model_data.plot(kind='hist', legend = True, y = ['# of Active Groups'], figsize = (10,5))\n",
    "plt.xlabel(\"# of active groups\")\n",
    "plt.ylabel(\"frequency\")"
   ]
  },
  {
   "cell_type": "markdown",
   "metadata": {},
   "source": [
    "**Active Groups, Node, and Signatures**\n",
    "\n",
    "Active Groups: Active groups available at every step. Same as above active groups are created when a relay entry occurs and a group is successfully registered\n",
    "\n",
    "Active Nodes: Active nodes are nodes in the staked status. This is based on the node state diagram provided by Antonio\n",
    "\n",
    "Number of Signatures: Signatures completed in aggregate including those considered to have failed based on the number of offline nodes."
   ]
  },
  {
   "cell_type": "code",
   "execution_count": null,
   "metadata": {},
   "outputs": [],
   "source": [
    "model_data.plot(kind='line', legend = True, y = ['# of Active Groups', '# of Active Nodes', '# of Signatures' ], figsize = (10,5))\n",
    "plt.xlabel(\"steps (Blocks)\")\n",
    "plt.show\n"
   ]
  },
  {
   "cell_type": "markdown",
   "metadata": {},
   "source": [
    "**Median Malicious, Dominator, & Failure %**\n",
    "\n",
    "Median Malicious Group % : We take the poppulation of groups and calculate median malicious ownership of the groups from the malicious % property of the group agent. The malicious ownership % is the percentage of the groups virtual stakers owned by malicious nodes.\n",
    "\n",
    "Median Dominator Group % : Similar to above we take the Dominator % property of each group and find the median at each step. The Dominator % = %owned by 1 node + Offline nodes\n",
    "\n",
    "Median Failure % : Signature failures are determined by the offline % evaluated against the failed signature threshold set above. Signatures with % of nodes offline > than the threshold are considered to have failed. Once again we calculate the median at each step."
   ]
  },
  {
   "cell_type": "code",
   "execution_count": null,
   "metadata": {},
   "outputs": [],
   "source": [
    "model_data.plot(kind='line', legend = True, y = ['Median Malicious Group %','Median Dominator %', 'Failed Singature %'], figsize = (10,5))\n",
    "plt.xlabel(\"steps (Blocks)\")\n",
    "plt.show"
   ]
  },
  {
   "cell_type": "markdown",
   "metadata": {},
   "source": [
    "**Compromised Groups & Dominated Signatures**\n",
    "\n",
    "% Compromised Groups: % of total groups designated as compromised based on the compromised threshold set above\n",
    "\n",
    "% Dominated signatures: % of signatures desiganted as dominated based on the max malicious threshold set above"
   ]
  },
  {
   "cell_type": "code",
   "execution_count": null,
   "metadata": {},
   "outputs": [],
   "source": [
    "model_data.plot(kind='line', legend = True, y = ['% Compromised Groups','% Dominated signatures'], figsize = (10,5))\n",
    "plt.xlabel(\"steps (Blocks)\")\n",
    "plt.show\n"
   ]
  },
  {
   "cell_type": "code",
   "execution_count": null,
   "metadata": {},
   "outputs": [],
   "source": [
    "\n",
    "data = agent_data[(agent_data['Type']=='signature')]# & (agent_data['Step']==400) ]\n",
    "np.shape(agent_data)\n",
    "data.loc[100]\n",
    "\n",
    "#data['Ownership Distribution'][3]\n"
   ]
  },
  {
   "cell_type": "code",
   "execution_count": null,
   "metadata": {},
   "outputs": [],
   "source": [
    "model_data.loc[50:]"
   ]
  },
  {
   "cell_type": "code",
   "execution_count": 18,
   "metadata": {},
   "outputs": [
    {
     "data": {
      "text/plain": [
       "0"
      ]
     },
     "execution_count": 18,
     "metadata": {},
     "output_type": "execute_result"
    }
   ],
   "source": []
  },
  {
   "cell_type": "code",
   "execution_count": null,
   "metadata": {},
   "outputs": [],
   "source": []
  }
 ],
 "metadata": {
  "kernelspec": {
   "display_name": "Python 3",
   "language": "python",
   "name": "python3"
  },
  "language_info": {
   "codemirror_mode": {
    "name": "ipython",
    "version": 3
   },
   "file_extension": ".py",
   "mimetype": "text/x-python",
   "name": "python",
   "nbconvert_exporter": "python",
   "pygments_lexer": "ipython3",
   "version": "3.7.1"
  }
 },
 "nbformat": 4,
 "nbformat_minor": 2
}
