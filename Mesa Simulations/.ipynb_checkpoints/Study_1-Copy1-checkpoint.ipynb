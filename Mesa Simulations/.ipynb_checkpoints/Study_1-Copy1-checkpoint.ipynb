{
 "cells": [
  {
   "cell_type": "markdown",
   "metadata": {},
   "source": [
    "# Keep Random Beacon Simulation - Study 1\n",
    "## Analyzing the effect of group size and node failures on dominator rates\n",
    "\n",
    "This study seeks to understand the impact of group size and node failure rates on number of nodes that can become dominators of a group. The study uses the Keep Random Beacon Simulation (see simulation master).\n",
    "\n",
    "To perform the study we run the simulation 1000 times for a given tuple of group size and failure rate. We leave the node death rate as constant, so all nodes are assumed to reconnect after failure.\n"
   ]
  },
  {
   "cell_type": "markdown",
   "metadata": {},
   "source": [
    "## Initializing Variables\n",
    "\n",
    "Variables are initialized similar to the master sim except for:\n",
    "* group_size -> group_size_array: This is changed to an array of group sizes \n",
    "* node_failure_percent -> node_failure_percent_array: this is changed to an array of failure %'s "
   ]
  },
  {
   "cell_type": "code",
   "execution_count": 1,
   "metadata": {},
   "outputs": [],
   "source": [
    "import random\n",
    "import datetime\n",
    "import numpy as np\n",
    "import pandas as pd\n",
    "import agent\n",
    "import model\n",
    "import matplotlib.pyplot as plt\n",
    "\n",
    "# Group & Signature Parameters\n",
    "group_size_array = [10, 20]# number of virtual stakers in a group - nodes to stakers is a 1-many relationship\n",
    "nodes = 100 # total number of nodes (assume 1 node = 1 staker)\n",
    "active_group_threshold =10 # number of active groups to bootstrap at start\n",
    "min_nodes = 40 # min number of nodes that must be online so as to increase the likelihood of lower max ownership\n",
    "max_malicious_threshold = 20 # % of malicious node ownership needed to sign\n",
    "signature_delay = 2 # lambda for poisson distribution used to generate a delay before the signature is executed\n",
    "group_expiry = 14 # number of steps after which a group expires\n",
    "Misbehaving_nodes = 10 # percent of nodes misbehaving during dkg\n",
    "dkg_block_delay = 14 # blocks needed to run DKG\n",
    "compromised_threshold = 0.3 # malicious + offline > threshold = compromised\n",
    "failed_signature_threshold = 0.6 # % of offline nodes causing a signature to fail\n",
    "\n",
    "#Node parameters\n",
    "node_failure_percent_array = [10, 20] # % of times nodes fail and have to reconnect\n",
    "node_death_percent = 5 # % of time nodes fail and do not reconnect\n",
    "node_connection_delay = 5 # max delay for a node to connect or reconnect after failure\n",
    "node_mainloop_connection_delay = 3 # max delay for a node to fork or refork mainloop after failure\n",
    "\n",
    "#Model Parameters\n",
    "log_filename = 'master_sim.log'\n",
    "runs = 1\n",
    "steps = 1000 #blocks"
   ]
  },
  {
   "cell_type": "markdown",
   "metadata": {},
   "source": [
    "## Generating ticket distribution for each node\n",
    "\n",
    "The ticket distribution determines how many tickets a node will generate during the group registration process. The charts below help visualize the shape of the distribution. The x-axis is the Node ID, and the y-axis shows the number of tickets for a node. Since the ticket selection process is uniform random we expect that the number of virtual stakers owned by a node in a group will be proportional to the number of tickets they generate. This has been validated by a previous analysis."
   ]
  },
  {
   "cell_type": "code",
   "execution_count": 2,
   "metadata": {},
   "outputs": [
    {
     "data": {
      "text/plain": [
       "Text(0.5, 1.0, 'Virtual Staker Cumulative Distribution')"
      ]
     },
     "execution_count": 2,
     "metadata": {},
     "output_type": "execute_result"
    },
    {
     "data": {
      "image/png": "[encoded data removed]",
      "text/plain": [
       "<Figure size 432x288 with 2 Axes>"
      ]
     },
     "metadata": {
      "needs_background": "light"
     },
     "output_type": "display_data"
    }
   ],
   "source": [
    "# Linear y = m * (x + 1) since indices start from 0\n",
    "ticket_distribution = np.zeros(nodes) \n",
    "\n",
    "for i in range (0, nodes):\n",
    "    ticket_distribution[i] =  10 * (i + 1) # m = 50 gives max y as 1000 which is 2% of 50000\n",
    "\n",
    "x = np.linspace(1,nodes,nodes)\n",
    "plt.subplot(2, 1, 1)\n",
    "plt.bar(x, ticket_distribution)\n",
    "plt.title(\"Virtual Staker Distribution\")\n",
    "\n",
    "cdf_L02=model.create_cdf(nodes,ticket_distribution)\n",
    "plt.subplot(2, 1, 2)\n",
    "plt.bar(x, cdf_L02)\n",
    "plt.title(\"Virtual Staker Cumulative Distribution\")"
   ]
  },
  {
   "cell_type": "markdown",
   "metadata": {},
   "source": [
    "## Run the model & measure the parameters of interest"
   ]
  },
  {
   "cell_type": "code",
   "execution_count": 3,
   "metadata": {},
   "outputs": [
    {
     "name": "stdout",
     "output_type": "stream",
     "text": [
      "run = 0group size = 10failure_percent = 10\n",
      "creating nodes\n"
     ]
    },
    {
     "name": "stderr",
     "output_type": "stream",
     "text": [
      "/Library/Frameworks/Python.framework/Versions/3.7/lib/python3.7/site-packages/numpy/core/fromnumeric.py:2920: RuntimeWarning: Mean of empty slice.\n",
      "  out=out, **kwargs)\n",
      "/Library/Frameworks/Python.framework/Versions/3.7/lib/python3.7/site-packages/numpy/core/_methods.py:85: RuntimeWarning: invalid value encountered in double_scalars\n",
      "  ret = ret.dtype.type(ret / rcount)\n"
     ]
    },
    {
     "name": "stdout",
     "output_type": "stream",
     "text": [
      "run = 0group size = 20failure_percent = 10\n",
      "creating nodes\n",
      "run = 0group size = 10failure_percent = 20\n",
      "creating nodes\n",
      "run = 0group size = 20failure_percent = 20\n",
      "creating nodes\n"
     ]
    }
   ],
   "source": [
    "model_data_failure = []\n",
    "agent_data_failure = []\n",
    "\n",
    "for node_failure_percent in node_failure_percent_array:\n",
    "    model_data_group = []\n",
    "    agent_data_group = []\n",
    "    for group_size in group_size_array:\n",
    "        model_data = []\n",
    "        agent_data = []\n",
    "        for run_number in range(runs): # Resets and re-runs the model for each run\n",
    "            print(\"run = \" + str(run_number) + \"group size = \" + str(group_size) + \"failure_percent = \" + str(node_failure_percent))\n",
    "            beacon_model = model.Beacon_Model(nodes, ticket_distribution, \n",
    "                                                  active_group_threshold, \n",
    "                                                  group_size, \n",
    "                                                  max_malicious_threshold, \n",
    "                                                  group_expiry, \n",
    "                                                  node_failure_percent, \n",
    "                                                  node_death_percent, \n",
    "                                                  signature_delay,\n",
    "                                                  min_nodes,\n",
    "                                                  node_connection_delay,\n",
    "                                                  node_mainloop_connection_delay,\n",
    "                                                  log_filename,\n",
    "                                                  run_number,\n",
    "                                                  Misbehaving_nodes,\n",
    "                                                  dkg_block_delay,\n",
    "                                                  compromised_threshold,\n",
    "                                                  failed_signature_threshold\n",
    "                                                 )\n",
    "\n",
    "\n",
    "            active_group_size = []\n",
    "            signature_failures = []\n",
    "            for i in range (steps):\n",
    "                beacon_model.step()\n",
    "\n",
    "            model_data.append(beacon_model.datacollector.get_model_vars_dataframe()) \n",
    "            agent_data.append(beacon_model.datacollector.get_agent_vars_dataframe())\n",
    "            len(model_data)\n",
    "            len(agent_data)            \n",
    "        model_data_group.append(model_data)\n",
    "        agent_data_group.append(agent_data)\n",
    "        len(model_data_group)\n",
    "        len(agent_data_group)\n",
    "        \n",
    "    model_data_failure.append(model_data_group)\n",
    "    agent_data_failure.append(agent_data_group)\n",
    "        \n",
    "        "
   ]
  },
  {
   "cell_type": "markdown",
   "metadata": {},
   "source": [
    "Steady state percentage of dominated signatures within for a range of groups and failure rates \n",
    "\n",
    "Steady state signature failure (offline nodes above a threshold) same as above\n",
    "\n",
    "change - \"compromised groups can still be picked for signature\"\n",
    "\n",
    "\n",
    "Two most important constants:\n",
    "Group size\n",
    "Min Stake\n",
    "max node count = active tokens/min stake (requires second layer of ownership as below)\n",
    "min node count = number of grants aka number of stakers ( be fixed on day 0)\n",
    "\n",
    "Another layer of ownership to allow 1 owner to own multiple nodes - To think about for later\n"
   ]
  },
  {
   "cell_type": "code",
   "execution_count": 4,
   "metadata": {
    "scrolled": true
   },
   "outputs": [
    {
     "name": "stdout",
     "output_type": "stream",
     "text": [
      "0.25\n",
      "0.25\n",
      "0.25\n",
      "0.25\n"
     ]
    },
    {
     "data": {
      "text/plain": [
       "[0.5501618122977346, 0.5501618122977346]"
      ]
     },
     "execution_count": 4,
     "metadata": {},
     "output_type": "execute_result"
    }
   ],
   "source": [
    "median_dominators = []\n",
    "for i,node_failure_percent in enumerate(node_failure_percent_array):\n",
    "    median_dominators_group = []\n",
    "    for j,group_size in enumerate(group_size_array):\n",
    "        median_dominators_group.append(np.median(model_data_failure[0][0][400:]['% Dominated signatures']))\n",
    "        print(np.median(model_data_failure[0][0][400:]['Median Dominator %']))\n",
    "    median_dominators.append(median_dominators_group)\n",
    "\n",
    "median_dominators_group"
   ]
  },
  {
   "cell_type": "code",
   "execution_count": 7,
   "metadata": {},
   "outputs": [
    {
     "data": {
      "text/plain": [
       "2"
      ]
     },
     "execution_count": 7,
     "metadata": {},
     "output_type": "execute_result"
    }
   ],
   "source": [
    "len(model_data_failure)"
   ]
  },
  {
   "cell_type": "code",
   "execution_count": 6,
   "metadata": {},
   "outputs": [
    {
     "data": {
      "text/plain": [
       "<function matplotlib.pyplot.show(*args, **kw)>"
      ]
     },
     "execution_count": 6,
     "metadata": {},
     "output_type": "execute_result"
    },
    {
     "data": {
      "image/png": "[encoded data removed]",
      "text/plain": [
       "<Figure size 432x288 with 1 Axes>"
      ]
     },
     "metadata": {
      "needs_background": "light"
     },
     "output_type": "display_data"
    }
   ],
   "source": [
    "model_data_failure[0][0].plot(kind='line', legend = True, y = ['% Compromised Groups','% Dominated signatures'])\n",
    "plt.xlabel(\"steps (Blocks)\")\n",
    "plt.show"
   ]
  },
  {
   "cell_type": "code",
   "execution_count": null,
   "metadata": {},
   "outputs": [],
   "source": []
  }
 ],
 "metadata": {
  "kernelspec": {
   "display_name": "Python 3",
   "language": "python",
   "name": "python3"
  },
  "language_info": {
   "codemirror_mode": {
    "name": "ipython",
    "version": 3
   },
   "file_extension": ".py",
   "mimetype": "text/x-python",
   "name": "python",
   "nbconvert_exporter": "python",
   "pygments_lexer": "ipython3",
   "version": "3.7.1"
  }
 },
 "nbformat": 4,
 "nbformat_minor": 2
}
