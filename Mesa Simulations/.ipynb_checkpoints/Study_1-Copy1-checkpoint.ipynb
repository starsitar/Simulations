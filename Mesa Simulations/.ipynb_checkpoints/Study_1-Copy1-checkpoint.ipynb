{
 "cells": [
  {
   "cell_type": "markdown",
   "metadata": {},
   "source": [
    "# Keep Random Beacon Simulation - Study 1\n",
    "## Analyzing the effect of group size and node failures on dominator rates\n",
    "\n",
    "This study seeks to understand the impact of group size and node failure rates on number of nodes that can become dominators of a group. The study uses the Keep Random Beacon Simulation (see simulation master).\n",
    "\n",
    "To perform the study we run the simulation 1000 times for a given tuple of group size and failure rate. We leave the node death rate as constant, so all nodes are assumed to reconnect after failure.\n"
   ]
  },
  {
   "cell_type": "markdown",
   "metadata": {},
   "source": [
    "## Initializing Variables\n",
    "\n",
    "Variables are initialized similar to the master sim except for:\n",
    "* group_size -> group_size_array: This is changed to an array of group sizes \n",
    "* node_failure_percent -> node_failure_percent_array: this is changed to an array of failure %'s "
   ]
  },
  {
   "cell_type": "code",
   "execution_count": 1,
   "metadata": {},
   "outputs": [],
   "source": [
    "import random\n",
    "import datetime\n",
    "import numpy as np\n",
    "import pandas as pd\n",
    "import agent\n",
    "import model\n",
    "import matplotlib.pyplot as plt\n",
    "\n",
    "# Group & Signature Parameters\n",
    "group_size_array = [50, 100, 150] # number of virtual stakers in a group - nodes to stakers is a 1-many relationship\n",
    "nodes = 100 # total number of nodes (assume 1 node = 1 staker)\n",
    "active_group_threshold =10 # number of active groups to bootstrap at start\n",
    "min_nodes = 40 # min number of nodes that must be online so as to increase the likelihood of lower max ownership\n",
    "max_malicious_threshold = 0.3 # % of malicious node ownership needed to sign\n",
    "signature_delay = 2 # lambda for poisson distribution used to generate a delay before the signature is executed\n",
    "group_expiry = 14 # number of steps after which a group expires\n",
    "Misbehaving_nodes = 5 # percent of nodes misbehaving during dkg\n",
    "dkg_block_delay = 14 # blocks needed to run DKG\n",
    "compromised_threshold = 0.25 # malicious > threshold = compromised\n",
    "failed_signature_threshold = 0.5 # % of offline nodes causing a signature to fail\n",
    "node_ownership_params = [0,1] # assign median and mean for normal distribution of node ownership\n",
    "\n",
    "#Node parameters\n",
    "node_failure_percent_array = [5, 10, 20]#, 30, 40, 50, 60, 70] # % of times nodes fail and have to reconnect\n",
    "node_death_percent = 5 # % of time nodes fail and do not reconnect\n",
    "node_connection_delay = 5 # max delay for a node to connect or reconnect after failure\n",
    "node_mainloop_connection_delay = 3 # max delay for a node to fork or refork mainloop after failure\n",
    "\n",
    "#Model Parameters\n",
    "log_filename = 'master_sim.log'\n",
    "runs = 6\n",
    "steps = 600 #blocks"
   ]
  },
  {
   "cell_type": "markdown",
   "metadata": {},
   "source": [
    "## Generating ticket distribution for each node\n",
    "\n",
    "The ticket distribution determines how many tickets a node will generate during the group registration process. The charts below help visualize the shape of the distribution. The x-axis is the Node ID, and the y-axis shows the number of tickets for a node. Since the ticket selection process is uniform random we expect that the number of virtual stakers owned by a node in a group will be proportional to the number of tickets they generate. This has been validated by a previous analysis."
   ]
  },
  {
   "cell_type": "code",
   "execution_count": 2,
   "metadata": {},
   "outputs": [
    {
     "data": {
      "text/plain": [
       "Text(0.5, 1.0, 'Virtual Staker Distribution')"
      ]
     },
     "execution_count": 2,
     "metadata": {},
     "output_type": "execute_result"
    },
    {
     "data": {
      "image/png": "[encoded data removed]",
      "text/plain": [
       "<Figure size 432x288 with 1 Axes>"
      ]
     },
     "metadata": {
      "needs_background": "light"
     },
     "output_type": "display_data"
    }
   ],
   "source": [
    "distribution_data = pd.read_excel('~/Downloads/eth_distr.xlsx')\n",
    "ticket_distribution = []\n",
    "for value in distribution_data.values.tolist():\n",
    "    if value[0] > 0 :\n",
    "        ticket_distribution.append(int(value[0]*10000))\n",
    "        \n",
    "nodes = len(ticket_distribution)\n",
    "ticket_distribution.sort()\n",
    "x = np.linspace(1,nodes,nodes)\n",
    "plt.subplot(2, 1, 1)\n",
    "plt.bar(x, ticket_distribution)\n",
    "plt.title(\"Virtual Staker Distribution\")"
   ]
  },
  {
   "cell_type": "markdown",
   "metadata": {},
   "source": [
    "## Run the model & measure the parameters of interest"
   ]
  },
  {
   "cell_type": "code",
   "execution_count": 3,
   "metadata": {},
   "outputs": [
    {
     "name": "stdout",
     "output_type": "stream",
     "text": [
      "run = 0group size = 50failure_percent = 5\n"
     ]
    },
    {
     "ename": "NameError",
     "evalue": "name 'node_ownership_params' is not defined",
     "output_type": "error",
     "traceback": [
      "\u001b[0;31m---------------------------------------------------------------------------\u001b[0m",
      "\u001b[0;31mNameError\u001b[0m                                 Traceback (most recent call last)",
      "\u001b[0;32m<ipython-input-3-334c7ec4fce4>\u001b[0m in \u001b[0;36m<module>\u001b[0;34m\u001b[0m\n\u001b[1;32m     27\u001b[0m                                                   \u001b[0mcompromised_threshold\u001b[0m\u001b[0;34m,\u001b[0m\u001b[0;34m\u001b[0m\u001b[0;34m\u001b[0m\u001b[0m\n\u001b[1;32m     28\u001b[0m                                                   \u001b[0mfailed_signature_threshold\u001b[0m\u001b[0;34m,\u001b[0m\u001b[0;34m\u001b[0m\u001b[0;34m\u001b[0m\u001b[0m\n\u001b[0;32m---> 29\u001b[0;31m                                                   \u001b[0mnode_ownership_params\u001b[0m\u001b[0;34m\u001b[0m\u001b[0;34m\u001b[0m\u001b[0m\n\u001b[0m\u001b[1;32m     30\u001b[0m                                                      )\n\u001b[1;32m     31\u001b[0m \u001b[0;34m\u001b[0m\u001b[0m\n",
      "\u001b[0;31mNameError\u001b[0m: name 'node_ownership_params' is not defined"
     ]
    }
   ],
   "source": [
    "model_data_failure = []\n",
    "agent_data_failure = []\n",
    "\n",
    "for node_failure_percent in node_failure_percent_array:\n",
    "    model_data_group = []\n",
    "    agent_data_group = []\n",
    "    for group_size in group_size_array:\n",
    "        model_data = []\n",
    "        agent_data = []\n",
    "        for run_number in range(runs): # Resets and re-runs the model for each run\n",
    "            print(\"run = \" + str(run_number) + \"group size = \" + str(group_size) + \"failure_percent = \" + str(node_failure_percent))\n",
    "            beacon_model = model.Beacon_Model(nodes, ticket_distribution, \n",
    "                                                  active_group_threshold, \n",
    "                                                  group_size, \n",
    "                                                  max_malicious_threshold, \n",
    "                                                  group_expiry, \n",
    "                                                  node_failure_percent, \n",
    "                                                  node_death_percent, \n",
    "                                                  signature_delay,\n",
    "                                                  min_nodes,\n",
    "                                                  node_connection_delay,\n",
    "                                                  node_mainloop_connection_delay,\n",
    "                                                  log_filename,\n",
    "                                                  run_number,\n",
    "                                                  Misbehaving_nodes,\n",
    "                                                  dkg_block_delay,\n",
    "                                                  compromised_threshold,\n",
    "                                                  failed_signature_threshold,\n",
    "                                                  node_ownership_params\n",
    "                                                     )\n",
    "\n",
    "\n",
    "\n",
    "            active_group_size = []\n",
    "            signature_failures = []\n",
    "            for i in range (steps):\n",
    "                beacon_model.step()\n",
    "\n",
    "            model_data.append(beacon_model.datacollector.get_model_vars_dataframe()) \n",
    "            agent_data.append(beacon_model.datacollector.get_agent_vars_dataframe())\n",
    "            len(model_data)\n",
    "            len(agent_data)            \n",
    "        model_data_group.append(model_data)\n",
    "        agent_data_group.append(agent_data)\n",
    "        len(model_data_group)\n",
    "        len(agent_data_group)\n",
    "        \n",
    "    model_data_failure.append(model_data_group)\n",
    "    agent_data_failure.append(agent_data_group)\n",
    "        \n",
    "        "
   ]
  },
  {
   "cell_type": "markdown",
   "metadata": {},
   "source": [
    "Steady state percentage of dominated signatures within for a range of groups and failure rates \n",
    "\n",
    "Steady state signature failure (offline nodes above a threshold) same as above\n",
    "\n",
    "change - \"compromised groups can still be picked for signature\"\n",
    "\n",
    "\n",
    "Two most important constants:\n",
    "Group size\n",
    "Min Stake\n",
    "max node count = active tokens/min stake (requires second layer of ownership as below)\n",
    "min node count = number of grants aka number of stakers ( be fixed on day 0)\n",
    "\n",
    "Another layer of ownership to allow 1 owner to own multiple nodes - To think about for later\n",
    "\n",
    "pull variables into separate file\n",
    "\n",
    "After checking through bugs\n",
    "Change failure rates to - 5, 10, 20\n",
    "group size - 50, 100, 150\n"
   ]
  },
  {
   "cell_type": "code",
   "execution_count": null,
   "metadata": {
    "scrolled": true
   },
   "outputs": [],
   "source": [
    "print(\"Dominated Signatures\")\n",
    "median_dominators_failure = []\n",
    "for i,node_failure_percent in enumerate(node_failure_percent_array):\n",
    "    median_dominator_group = []\n",
    "    for j,group_size in enumerate(group_size_array):\n",
    "        median_dominator_runs = []\n",
    "        for k in range(runs):     \n",
    "            median_dominator_runs.append(np.median(model_data_failure[i][j][k][400:]['% Dominated signatures']))\n",
    "        median_dominator_group.append(np.median(median_dominator_runs))\n",
    "    median_dominators_failure.append(median_dominator_group)\n",
    "\n",
    "    \n",
    "df = pd.DataFrame(median_dominators_failure, columns= group_size_array)\n",
    "df.insert(0,'Failure %',node_failure_percent_array)\n",
    "df.set_index('Failure %')\n",
    "df"
   ]
  },
  {
   "cell_type": "code",
   "execution_count": null,
   "metadata": {},
   "outputs": [],
   "source": [
    "print(\"Compromised Groups\")\n",
    "median_dominators_failure = []\n",
    "for i,node_failure_percent in enumerate(node_failure_percent_array):\n",
    "    median_dominator_group = []\n",
    "    for j,group_size in enumerate(group_size_array):\n",
    "        median_dominator_runs = []\n",
    "        for k in range(runs):     \n",
    "            median_dominator_runs.append(np.median(model_data_failure[i][j][k][400:]['% Compromised Groups']))\n",
    "        median_dominator_group.append(np.median(median_dominator_runs))\n",
    "    median_dominators_failure.append(median_dominator_group)\n",
    "\n",
    "    \n",
    "df = pd.DataFrame(median_dominators_failure, columns= group_size_array)\n",
    "df.insert(0,'Failure %',node_failure_percent_array)\n",
    "df.set_index('Failure %')\n",
    "df"
   ]
  },
  {
   "cell_type": "code",
   "execution_count": null,
   "metadata": {},
   "outputs": [],
   "source": [
    "print(\"Failed Signature %\")\n",
    "median_dominators_failure = []\n",
    "for i,node_failure_percent in enumerate(node_failure_percent_array):\n",
    "    median_dominator_group = []\n",
    "    for j,group_size in enumerate(group_size_array):\n",
    "        median_dominator_runs = []\n",
    "        for k in range(runs):     \n",
    "            median_dominator_runs.append(np.median(model_data_failure[i][j][k][400:]['Failed Singature %']))\n",
    "        median_dominator_group.append(np.median(median_dominator_runs))\n",
    "    median_dominators_failure.append(median_dominator_group)\n",
    "\n",
    "    \n",
    "df = pd.DataFrame(median_dominators_failure, columns= group_size_array)\n",
    "df.insert(0,'Failure %',node_failure_percent_array)\n",
    "df.set_index('Failure %')\n",
    "df"
   ]
  },
  {
   "cell_type": "code",
   "execution_count": null,
   "metadata": {},
   "outputs": [],
   "source": [
    "median_dominators_failure"
   ]
  },
  {
   "cell_type": "code",
   "execution_count": null,
   "metadata": {},
   "outputs": [],
   "source": []
  }
 ],
 "metadata": {
  "kernelspec": {
   "display_name": "Python 3",
   "language": "python",
   "name": "python3"
  },
  "language_info": {
   "codemirror_mode": {
    "name": "ipython",
    "version": 3
   },
   "file_extension": ".py",
   "mimetype": "text/x-python",
   "name": "python",
   "nbconvert_exporter": "python",
   "pygments_lexer": "ipython3",
   "version": "3.7.1"
  }
 },
 "nbformat": 4,
 "nbformat_minor": 2
}
