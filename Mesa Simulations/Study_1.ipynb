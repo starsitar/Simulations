{
 "cells": [
  {
   "cell_type": "markdown",
   "metadata": {},
   "source": [
    "# Keep Random Beacon Simulation - Study 1\n",
    "## Analyzing the effect of group size and node failures on dominator rates\n",
    "\n",
    "This study seeks to understand the impact of group size and node failure rates on number of nodes that can become dominators of a group. The study uses the Keep Random Beacon Simulation (see simulation master).\n",
    "\n",
    "To perform the study we run the simulation 1000 times for a given tuple of group size and failure rate. We leave the node death rate as constant, so all nodes are assumed to reconnect after failure.\n"
   ]
  },
  {
   "cell_type": "markdown",
   "metadata": {},
   "source": [
    "## Initializing Variables\n",
    "\n",
    "Variables are initialized similar to the master sim except for:\n",
    "* group_size -> group_size_array: This is changed to an array of group sizes \n",
    "* node_failure_percent -> node_failure_percent_array: this is changed to an array of failure %'s "
   ]
  },
  {
   "cell_type": "code",
   "execution_count": 1,
   "metadata": {},
   "outputs": [],
   "source": [
    "import random\n",
    "import datetime\n",
    "import numpy as np\n",
    "import pandas as pd\n",
    "import agent\n",
    "import model\n",
    "import matplotlib.pyplot as plt\n",
    "\n",
    "# Group & Signature Parameters\n",
    "group_size_array = [10, 20, 30, 40, 50, 60, 70]# number of virtual stakers in a group - nodes to stakers is a 1-many relationship\n",
    "nodes = 100 # total number of nodes (assume 1 node = 1 staker)\n",
    "active_group_threshold =10 # number of active groups to bootstrap at start\n",
    "min_nodes = 3 # min number of nodes that must be online so as to increase the likelihood of lower max ownership\n",
    "max_malicious_threshold = 50 # % of malicious node ownership needed to sign\n",
    "signature_delay = 2 # lambda for poisson distribution used to generate a delay before the signature is executed\n",
    "group_expiry = 10 # number of steps after which a group expires\n",
    "Misbehaving_DKG_nodes = 10 # percent of nodes misbehaving during dkg\n",
    "dkg_block_delay = 3 # blocks needed to run DKG\n",
    "\n",
    "#Node parameters\n",
    "node_failure_percent_array = [10, 20, 30, 40, 50, 60, 70] # % of times nodes fail and have to reconnect\n",
    "node_death_percent = 2 # % of time nodes fail and do not reconnect\n",
    "node_connection_delay = 3 # max delay for a node to connect or reconnect after failure\n",
    "node_mainloop_connection_delay = 3 # max delay for a node to fork or refork mainloop after failure\n",
    "\n",
    "#Model Parameters\n",
    "log_filename = 'group_failure_dominator_study.log'\n",
    "runs = 10\n",
    "steps = 100"
   ]
  },
  {
   "cell_type": "markdown",
   "metadata": {},
   "source": [
    "## Generating ticket distribution for each node\n",
    "\n",
    "The ticket distribution determines how many tickets a node will generate during the group registration process. The charts below help visualize the shape of the distribution. The x-axis is the Node ID, and the y-axis shows the number of tickets for a node. Since the ticket selection process is uniform random we expect that the number of virtual stakers owned by a node in a group will be proportional to the number of tickets they generate. This has been validated by a previous analysis."
   ]
  },
  {
   "cell_type": "code",
   "execution_count": 2,
   "metadata": {},
   "outputs": [
    {
     "data": {
      "text/plain": [
       "Text(0.5, 1.0, 'Virtual Staker Cumulative Distribution')"
      ]
     },
     "execution_count": 2,
     "metadata": {},
     "output_type": "execute_result"
    },
    {
     "data": {
      "image/png": "[encoded data removed]",
      "text/plain": [
       "<Figure size 432x288 with 2 Axes>"
      ]
     },
     "metadata": {
      "needs_background": "light"
     },
     "output_type": "display_data"
    }
   ],
   "source": [
    "# Linear y = m * (x + 1) since indices start from 0\n",
    "ticket_distribution = np.zeros(nodes) \n",
    "\n",
    "for i in range (0, nodes):\n",
    "    ticket_distribution[i] =  10 * (i + 1) # m = 50 gives max y as 1000 which is 2% of 50000\n",
    "\n",
    "x = np.linspace(1,nodes,nodes)\n",
    "plt.subplot(2, 1, 1)\n",
    "plt.bar(x, ticket_distribution)\n",
    "plt.title(\"Virtual Staker Distribution\")\n",
    "\n",
    "cdf_L02=model.create_cdf(nodes,ticket_distribution)\n",
    "plt.subplot(2, 1, 2)\n",
    "plt.bar(x, cdf_L02)\n",
    "plt.title(\"Virtual Staker Cumulative Distribution\")"
   ]
  },
  {
   "cell_type": "markdown",
   "metadata": {},
   "source": [
    "## Run the model & measure the parameters of interest"
   ]
  },
  {
   "cell_type": "code",
   "execution_count": 3,
   "metadata": {},
   "outputs": [],
   "source": [
    "#initialize parameter measures\n",
    "dominator_distributions_2 = []\n",
    "total_dominator_percents_2 = []\n",
    "dominator_medians_2 = []\n",
    "total_sig_failure_percents_2 = []\n",
    "for node_failure_percent in node_failure_percent_array:\n",
    "    dominator_distributions_1 = []\n",
    "    total_dominator_percents_1 = []\n",
    "    dominator_medians_1 = []\n",
    "    total_sig_failure_percents_1 = []\n",
    "    for group_size in group_size_array:\n",
    "        dominator_distributions = []\n",
    "        total_dominator_percents = []\n",
    "        total_sig_failure_percents = []\n",
    "        for run_number in range(runs):\n",
    "            # initialize the model\n",
    "            beacon_model = model.Beacon_Model(nodes, ticket_distribution, \n",
    "                                          active_group_threshold, \n",
    "                                          group_size, \n",
    "                                          max_malicious_threshold, \n",
    "                                          group_expiry, \n",
    "                                          node_failure_percent, \n",
    "                                          node_death_percent, \n",
    "                                          signature_delay,\n",
    "                                          min_nodes,\n",
    "                                          node_connection_delay,\n",
    "                                          node_mainloop_connection_delay,\n",
    "                                          log_filename,\n",
    "                                          run_number,Misbehaving_DKG_nodes,dkg_block_delay)\n",
    "            for i in range (steps):\n",
    "                # step the model\n",
    "                beacon_model.step()\n",
    "                # Calculate the dominator distribution and totals for each run\n",
    "                dominator_distr = np.zeros(nodes)\n",
    "                signature_count = 0\n",
    "                failed_signatures =0\n",
    "                for signature in beacon_model.schedule.agents:\n",
    "                    if signature.type == \"signature\":\n",
    "                        failed_signatures+=signature.signature_failure \n",
    "                        signature_count+=1\n",
    "                        if signature.dominator_id>=0:\n",
    "                            dominator_distr[signature.dominator_id] += 1 #count only if a dominator id has been set\n",
    "            dominator_distributions.append(dominator_distr)\n",
    "            total_sig_failure_percents.append(round(failed_signatures/signature_count*100,1))\n",
    "            total_dominator_percents.append(round(sum(dominator_distr)/signature_count*100,1))\n",
    "        dominator_distributions_1.append(dominator_distributions)\n",
    "        total_sig_failure_percents_1.append(total_sig_failure_percents)\n",
    "        total_dominator_percents_1.append(total_dominator_percents)\n",
    "        dominator_medians_1.append(np.median(total_dominator_percents))\n",
    "    dominator_distributions_2.append(dominator_distributions_1)\n",
    "    total_sig_failure_percents_2.append(total_sig_failure_percents_1)\n",
    "    total_dominator_percents_2.append(total_dominator_percents_1)\n",
    "    dominator_medians_2.append(dominator_medians_1)\n"
   ]
  },
  {
   "cell_type": "code",
   "execution_count": 4,
   "metadata": {},
   "outputs": [
    {
     "data": {
      "text/html": [
       "<div>\n",
       "<style scoped>\n",
       "    .dataframe tbody tr th:only-of-type {\n",
       "        vertical-align: middle;\n",
       "    }\n",
       "\n",
       "    .dataframe tbody tr th {\n",
       "        vertical-align: top;\n",
       "    }\n",
       "\n",
       "    .dataframe thead th {\n",
       "        text-align: right;\n",
       "    }\n",
       "</style>\n",
       "<table border=\"1\" class=\"dataframe\">\n",
       "  <thead>\n",
       "    <tr style=\"text-align: right;\">\n",
       "      <th></th>\n",
       "      <th>Failure %</th>\n",
       "      <th>10</th>\n",
       "      <th>20</th>\n",
       "      <th>30</th>\n",
       "      <th>40</th>\n",
       "      <th>50</th>\n",
       "      <th>60</th>\n",
       "      <th>70</th>\n",
       "    </tr>\n",
       "  </thead>\n",
       "  <tbody>\n",
       "    <tr>\n",
       "      <th>0</th>\n",
       "      <td>10</td>\n",
       "      <td>4.70</td>\n",
       "      <td>1.00</td>\n",
       "      <td>1.05</td>\n",
       "      <td>0.00</td>\n",
       "      <td>0.00</td>\n",
       "      <td>2.10</td>\n",
       "      <td>0.00</td>\n",
       "    </tr>\n",
       "    <tr>\n",
       "      <th>1</th>\n",
       "      <td>20</td>\n",
       "      <td>16.95</td>\n",
       "      <td>5.85</td>\n",
       "      <td>7.15</td>\n",
       "      <td>3.90</td>\n",
       "      <td>3.90</td>\n",
       "      <td>5.80</td>\n",
       "      <td>2.20</td>\n",
       "    </tr>\n",
       "    <tr>\n",
       "      <th>2</th>\n",
       "      <td>30</td>\n",
       "      <td>40.00</td>\n",
       "      <td>25.70</td>\n",
       "      <td>21.65</td>\n",
       "      <td>17.00</td>\n",
       "      <td>11.95</td>\n",
       "      <td>12.50</td>\n",
       "      <td>12.30</td>\n",
       "    </tr>\n",
       "    <tr>\n",
       "      <th>3</th>\n",
       "      <td>40</td>\n",
       "      <td>64.60</td>\n",
       "      <td>53.35</td>\n",
       "      <td>49.50</td>\n",
       "      <td>48.75</td>\n",
       "      <td>46.75</td>\n",
       "      <td>45.65</td>\n",
       "      <td>45.75</td>\n",
       "    </tr>\n",
       "    <tr>\n",
       "      <th>4</th>\n",
       "      <td>50</td>\n",
       "      <td>83.15</td>\n",
       "      <td>79.45</td>\n",
       "      <td>80.00</td>\n",
       "      <td>80.00</td>\n",
       "      <td>75.90</td>\n",
       "      <td>77.90</td>\n",
       "      <td>72.35</td>\n",
       "    </tr>\n",
       "    <tr>\n",
       "      <th>5</th>\n",
       "      <td>60</td>\n",
       "      <td>91.75</td>\n",
       "      <td>93.10</td>\n",
       "      <td>94.20</td>\n",
       "      <td>93.15</td>\n",
       "      <td>92.20</td>\n",
       "      <td>94.40</td>\n",
       "      <td>93.85</td>\n",
       "    </tr>\n",
       "    <tr>\n",
       "      <th>6</th>\n",
       "      <td>70</td>\n",
       "      <td>96.05</td>\n",
       "      <td>96.45</td>\n",
       "      <td>96.00</td>\n",
       "      <td>96.40</td>\n",
       "      <td>95.20</td>\n",
       "      <td>96.25</td>\n",
       "      <td>98.05</td>\n",
       "    </tr>\n",
       "  </tbody>\n",
       "</table>\n",
       "</div>"
      ],
      "text/plain": [
       "   Failure %     10     20     30     40     50     60     70\n",
       "0         10   4.70   1.00   1.05   0.00   0.00   2.10   0.00\n",
       "1         20  16.95   5.85   7.15   3.90   3.90   5.80   2.20\n",
       "2         30  40.00  25.70  21.65  17.00  11.95  12.50  12.30\n",
       "3         40  64.60  53.35  49.50  48.75  46.75  45.65  45.75\n",
       "4         50  83.15  79.45  80.00  80.00  75.90  77.90  72.35\n",
       "5         60  91.75  93.10  94.20  93.15  92.20  94.40  93.85\n",
       "6         70  96.05  96.45  96.00  96.40  95.20  96.25  98.05"
      ]
     },
     "execution_count": 4,
     "metadata": {},
     "output_type": "execute_result"
    }
   ],
   "source": [
    "import pandas as pd\n",
    "df = pd.DataFrame(dominator_medians_2, columns= group_size_array)\n",
    "df.insert(0,'Failure %',node_failure_percent_array)\n",
    "df.set_index('Failure %')\n",
    "df\n"
   ]
  },
  {
   "cell_type": "code",
   "execution_count": 5,
   "metadata": {},
   "outputs": [
    {
     "data": {
      "text/plain": [
       "[[[98.1, 95.7, 96.4, 95.3, 100.0, 98.0, 98.2, 95.7, 100.0, 94.6],\n",
       "  [97.4, 93.6, 93.2, 93.9, 95.7, 94.6, 100.0, 96.6, 93.5, 95.7],\n",
       "  [95.2, 100.0, 95.9, 97.9, 94.1, 97.9, 98.3, 97.7, 93.6, 95.5],\n",
       "  [93.9, 96.6, 98.0, 98.0, 95.0, 95.6, 97.8, 95.7, 100.0, 91.5],\n",
       "  [98.1, 97.9, 100.0, 97.6, 95.7, 94.6, 96.0, 96.0, 94.2, 98.0],\n",
       "  [100.0, 98.1, 96.4, 93.2, 95.5, 98.0, 96.2, 100.0, 93.4, 98.1],\n",
       "  [98.2, 96.2, 98.0, 98.1, 98.1, 95.8, 95.8, 97.7, 95.7, 97.6]],\n",
       " [[95.0, 96.4, 98.2, 92.6, 94.9, 97.8, 97.5, 98.1, 96.2, 100.0],\n",
       "  [96.2, 90.0, 95.7, 94.9, 98.1, 92.7, 97.5, 97.7, 96.0, 97.8],\n",
       "  [94.6, 95.9, 90.5, 98.2, 93.2, 98.4, 93.8, 96.6, 94.3, 95.6],\n",
       "  [97.7, 93.0, 95.7, 95.8, 96.2, 97.9, 97.7, 98.2, 100.0, 97.1],\n",
       "  [98.0, 97.7, 95.1, 100.0, 94.5, 94.2, 96.0, 98.0, 97.9, 97.6],\n",
       "  [94.4, 96.3, 96.2, 95.3, 98.1, 95.7, 100.0, 96.2, 96.3, 95.7],\n",
       "  [96.1, 97.7, 96.3, 98.2, 98.1, 100.0, 97.7, 93.5, 95.3, 97.8]],\n",
       " [[97.8, 100.0, 97.9, 98.0, 98.3, 97.9, 96.2, 96.4, 94.0, 98.2],\n",
       "  [95.7, 95.7, 100.0, 96.6, 98.1, 96.4, 96.4, 98.3, 97.8, 91.1],\n",
       "  [96.7, 95.7, 97.9, 94.9, 95.8, 95.9, 95.8, 95.5, 98.2, 100.0],\n",
       "  [97.4, 97.5, 98.1, 96.3, 96.0, 95.3, 98.0, 92.0, 92.0, 96.5],\n",
       "  [97.9, 97.9, 95.9, 96.1, 93.8, 93.3, 92.6, 97.9, 98.1, 97.7],\n",
       "  [96.4, 98.0, 95.7, 98.2, 98.0, 98.1, 96.2, 96.4, 96.3, 98.2],\n",
       "  [92.5, 96.4, 96.9, 94.3, 100.0, 98.1, 98.3, 98.1, 98.2, 100.0]],\n",
       " [[96.6, 98.0, 92.9, 100.0, 95.7, 93.8, 95.9, 96.7, 92.2, 96.2],\n",
       "  [100.0, 98.3, 98.1, 96.3, 97.4, 97.8, 93.8, 98.2, 97.8, 98.3],\n",
       "  [98.2, 95.7, 96.5, 100.0, 98.2, 96.4, 93.9, 97.6, 97.3, 100.0],\n",
       "  [96.6, 100.0, 93.5, 96.0, 98.0, 96.1, 98.3, 92.0, 96.2, 96.4],\n",
       "  [100.0, 100.0, 96.6, 98.0, 93.8, 96.5, 98.1, 95.7, 95.9, 96.0],\n",
       "  [100.0, 96.1, 93.0, 94.6, 98.1, 94.9, 98.1, 96.3, 95.9, 98.0],\n",
       "  [95.7, 91.8, 96.2, 94.6, 97.6, 100.0, 97.9, 95.8, 97.8, 98.1]],\n",
       " [[96.1, 97.6, 95.2, 95.9, 95.8, 98.1, 100.0, 95.7, 94.3, 94.6],\n",
       "  [95.7, 96.2, 98.1, 95.6, 94.1, 98.0, 94.5, 97.9, 96.6, 97.2],\n",
       "  [98.0, 96.1, 100.0, 93.0, 98.0, 97.7, 95.8, 96.4, 95.8, 100.0],\n",
       "  [98.2, 97.9, 94.0, 95.7, 97.7, 94.3, 96.5, 96.2, 97.9, 100.0],\n",
       "  [97.6, 98.2, 100.0, 97.8, 93.8, 97.9, 96.6, 98.2, 98.0, 97.8],\n",
       "  [98.1, 98.1, 98.1, 98.3, 96.1, 98.0, 98.1, 97.6, 98.2, 94.3],\n",
       "  [98.2, 98.0, 97.9, 97.2, 93.0, 96.3, 97.7, 97.8, 100.0, 100.0]],\n",
       " [[97.9, 97.7, 100.0, 97.7, 95.3, 100.0, 93.6, 97.7, 96.0, 98.0],\n",
       "  [96.2, 96.2, 95.7, 95.7, 97.6, 97.5, 97.6, 98.4, 95.6, 98.2],\n",
       "  [95.9, 98.0, 100.0, 98.2, 98.1, 100.0, 95.7, 96.1, 98.0, 95.8],\n",
       "  [98.1, 97.8, 100.0, 98.1, 98.0, 100.0, 96.0, 98.1, 96.4, 96.3],\n",
       "  [100.0, 91.7, 93.8, 98.0, 98.2, 95.8, 94.8, 100.0, 95.5, 95.5],\n",
       "  [94.9, 100.0, 95.9, 100.0, 100.0, 97.4, 97.7, 97.8, 96.3, 98.0],\n",
       "  [100.0, 94.0, 97.7, 96.4, 98.0, 97.8, 97.7, 96.3, 97.9, 95.9]],\n",
       " [[94.4, 96.0, 98.0, 92.2, 95.3, 96.3, 100.0, 96.6, 95.6, 98.0],\n",
       "  [95.9, 95.9, 96.1, 98.0, 98.0, 98.0, 95.3, 98.2, 98.2, 98.2],\n",
       "  [96.0, 98.4, 95.5, 98.2, 93.9, 100.0, 98.0, 95.9, 98.1, 97.9],\n",
       "  [98.1, 97.9, 100.0, 94.5, 98.1, 98.3, 95.7, 98.0, 100.0, 96.2],\n",
       "  [96.4, 100.0, 97.7, 98.1, 95.9, 96.2, 94.7, 100.0, 94.2, 97.4],\n",
       "  [98.0, 98.1, 96.1, 94.1, 95.3, 95.7, 96.4, 100.0, 100.0, 98.0],\n",
       "  [94.1, 100.0, 100.0, 97.9, 100.0, 100.0, 98.2, 100.0, 94.3, 100.0]]]"
      ]
     },
     "execution_count": 5,
     "metadata": {},
     "output_type": "execute_result"
    }
   ],
   "source": [
    "total_sig_failure_percents_2"
   ]
  },
  {
   "cell_type": "markdown",
   "metadata": {},
   "source": [
    "Steady state percentage of dominated signatures within for a range of groups and failure rates \n",
    "\n",
    "Steady state signature failure (offline nodes above a threshold) same as above\n",
    "\n",
    "change - \"compromised groups can still be picked for signature\"\n",
    "\n",
    "\n",
    "Two most important constants:\n",
    "Group size\n",
    "Min Stake\n",
    "max node count = active tokens/min stake (requires second layer of ownership as below)\n",
    "min node count = number of grants aka number of stakers ( be fixed on day 0)\n",
    "\n",
    "Another layer of ownership to allow 1 owner to own multiple nodes - To think about for later\n"
   ]
  }
 ],
 "metadata": {
  "kernelspec": {
   "display_name": "Python 3",
   "language": "python",
   "name": "python3"
  },
  "language_info": {
   "codemirror_mode": {
    "name": "ipython",
    "version": 3
   },
   "file_extension": ".py",
   "mimetype": "text/x-python",
   "name": "python",
   "nbconvert_exporter": "python",
   "pygments_lexer": "ipython3",
   "version": "3.7.1"
  }
 },
 "nbformat": 4,
 "nbformat_minor": 2
}
