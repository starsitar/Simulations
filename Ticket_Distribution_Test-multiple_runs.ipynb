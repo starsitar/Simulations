{
 "cells": [
  {
   "cell_type": "code",
   "execution_count": 31,
   "metadata": {},
   "outputs": [],
   "source": [
    "import numpy as np\n",
    "import matplotlib.pyplot as plt\n",
    "\n",
    "total_tickets =0.5*100*10000\n",
    "Totals = np.zeros(100)\n",
    "\n",
    "for i in range(0,100):\n",
    "    tickets = np.random.random_sample(int(total_tickets))\n",
    "    winning_tickets = []\n",
    "    i = 0\n",
    "    i_val =[]\n",
    "    j_val =[]\n",
    "    for j in range(0,100,1):\n",
    "        winning_tickets.append(sum(tickets[i:i+100*j]<0.00025))\n",
    "        i_val.append(i)\n",
    "        j_val.append(j*100)\n",
    "        i = i+100*j\n",
    "        j +=1\n",
    "    Totals = Totals + winning_tickets\n",
    "    \n"
   ]
  },
  {
   "cell_type": "code",
   "execution_count": 32,
   "metadata": {},
   "outputs": [
    {
     "data": {
      "image/png": "[encoded data removed]",
      "text/plain": [
       "<Figure size 432x288 with 1 Axes>"
      ]
     },
     "metadata": {
      "needs_background": "light"
     },
     "output_type": "display_data"
    }
   ],
   "source": [
    "ind = np.arange(len(winning_tickets))\n",
    "hist = plt.bar(ind,Totals)"
   ]
  },
  {
   "cell_type": "code",
   "execution_count": null,
   "metadata": {},
   "outputs": [],
   "source": []
  }
 ],
 "metadata": {
  "kernelspec": {
   "display_name": "Python 3",
   "language": "python",
   "name": "python3"
  },
  "language_info": {
   "codemirror_mode": {
    "name": "ipython",
    "version": 3
   },
   "file_extension": ".py",
   "mimetype": "text/x-python",
   "name": "python",
   "nbconvert_exporter": "python",
   "pygments_lexer": "ipython3",
   "version": "3.7.1"
  }
 },
 "nbformat": 4,
 "nbformat_minor": 2
}
