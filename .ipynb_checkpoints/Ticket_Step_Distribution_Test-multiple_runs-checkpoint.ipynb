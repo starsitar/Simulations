{
 "cells": [
  {
   "cell_type": "code",
   "execution_count": 17,
   "metadata": {},
   "outputs": [],
   "source": [
    "import numpy as np\n",
    "import matplotlib.pyplot as plt\n",
    "\n",
    "total_tickets =0.5*100*10000\n",
    "Totals = np.zeros(100)\n",
    "GroupMax = np.zeros(100)\n",
    "MaxOwnership = np.zeros(100)\n",
    "MaxOwnershipCount = 0\n",
    "GroupSize = []\n",
    "\n",
    "for i in range(0,1):\n",
    "    tickets = np.random.random_sample(int(total_tickets))\n",
    "    winning_tickets = []\n",
    "    i = 0\n",
    "    i_val =[]\n",
    "    j_val =[]\n",
    "    for j in range(0,99,1):\n",
    "        winning_tickets.append(sum(tickets[i:i+252]<0.00025))# this assigns ownership to nodes by index\n",
    "        i_val.append(i)\n",
    "        j_val.append(i+252)\n",
    "        i = i+252\n",
    "        j +=1\n",
    "    winning_tickets.append(sum(tickets[i:]<0.00025))\n",
    "    i_val.append(len(tickets[i:]))\n",
    "    j_val.append(len(tickets[i:]))\n",
    "    GroupSize.append(sum(winning_tickets))\n",
    "    GroupMax[np.argmax(winning_tickets)] +=1\n",
    "    MaxOwnership[np.argmax(winning_tickets)]=winning_tickets[np.argmax(winning_tickets)]/sum(winning_tickets)\n",
    "    MaxOwnershipCount += np.round(winning_tickets[np.argmax(winning_tickets)]/sum(winning_tickets))\n",
    "    Totals = Totals + winning_tickets\n",
    "    \n"
   ]
  },
  {
   "cell_type": "code",
   "execution_count": 18,
   "metadata": {},
   "outputs": [
    {
     "data": {
      "image/png": "[encoded data removed]",
      "text/plain": [
       "<Figure size 432x288 with 1 Axes>"
      ]
     },
     "metadata": {
      "needs_background": "light"
     },
     "output_type": "display_data"
    }
   ],
   "source": [
    "ind = np.arange(len(winning_tickets))\n",
    "hist = plt.bar(ind,j_val)"
   ]
  },
  {
   "cell_type": "code",
   "execution_count": 16,
   "metadata": {},
   "outputs": [
    {
     "data": {
      "image/png": "[encoded data removed]",
      "text/plain": [
       "<Figure size 432x288 with 1 Axes>"
      ]
     },
     "metadata": {
      "needs_background": "light"
     },
     "output_type": "display_data"
    }
   ],
   "source": [
    "ind = np.arange(len(winning_tickets))\n",
    "hist = plt.bar(ind,Totals)"
   ]
  },
  {
   "cell_type": "code",
   "execution_count": 13,
   "metadata": {},
   "outputs": [
    {
     "data": {
      "image/png": "[encoded data removed]",
      "text/plain": [
       "<Figure size 432x288 with 1 Axes>"
      ]
     },
     "metadata": {
      "needs_background": "light"
     },
     "output_type": "display_data"
    }
   ],
   "source": [
    "hist2 = plt.bar(ind,GroupMax)"
   ]
  },
  {
   "cell_type": "code",
   "execution_count": 14,
   "metadata": {},
   "outputs": [
    {
     "name": "stdout",
     "output_type": "stream",
     "text": [
      "Maximum times 51% ownership of a group in 1000 runs = 10.0\n",
      "Group Size Range, Max= 145Min= 105\n",
      "Maximum count 51% ownership of a group = [0.         0.         0.         0.         0.         0.\n",
      " 0.         0.         0.         0.         0.         0.\n",
      " 0.         0.         0.         0.         0.         0.\n",
      " 0.         0.         0.         0.         0.         0.\n",
      " 0.         0.         0.         0.         0.         0.\n",
      " 0.         0.         0.         0.         0.         0.\n",
      " 0.         0.         0.         0.         0.         0.\n",
      " 0.         0.         0.         0.         0.         0.\n",
      " 0.         0.         0.         0.         0.         0.\n",
      " 0.         0.         0.         0.         0.         0.\n",
      " 0.         0.         0.         0.         0.         0.\n",
      " 0.         0.         0.         0.         0.         0.\n",
      " 0.         0.         0.         0.         0.         0.\n",
      " 0.         0.         0.         0.         0.         0.\n",
      " 0.         0.         0.         0.         0.         0.\n",
      " 0.         0.         0.         0.         0.         0.\n",
      " 0.         0.         0.         0.91428571]\n",
      "Maximum ownership  = 0.9142857142857143\n"
     ]
    }
   ],
   "source": [
    "print(\"Maximum times 51% ownership of a group in 1000 runs = \"+str(MaxOwnershipCount))\n",
    "print(\"Group Size Range, Max= \"+str(GroupSize[np.argmax(GroupSize)])+ \"Min= \"+ str(GroupSize[np.argmin(GroupSize)]))\n",
    "print(\"Maximum count 51% ownership of a group = \"+str(MaxOwnership))\n",
    "print(\"Maximum ownership  = \"+str(MaxOwnership[np.argmax(MaxOwnership)]))\n"
   ]
  }
 ],
 "metadata": {
  "kernelspec": {
   "display_name": "Python 3",
   "language": "python",
   "name": "python3"
  },
  "language_info": {
   "codemirror_mode": {
    "name": "ipython",
    "version": 3
   },
   "file_extension": ".py",
   "mimetype": "text/x-python",
   "name": "python",
   "nbconvert_exporter": "python",
   "pygments_lexer": "ipython3",
   "version": "3.7.1"
  }
 },
 "nbformat": 4,
 "nbformat_minor": 2
}
