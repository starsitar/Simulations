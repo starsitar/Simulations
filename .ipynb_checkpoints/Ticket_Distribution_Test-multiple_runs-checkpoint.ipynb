{
 "cells": [
  {
   "cell_type": "code",
   "execution_count": 40,
   "metadata": {},
   "outputs": [],
   "source": [
    "import numpy as np\n",
    "import matplotlib.pyplot as plt\n",
    "\n",
    "total_tickets =0.5*100*10000\n",
    "Totals = np.zeros(100)\n",
    "GroupMax = np.zeros(100)\n",
    "MaxOwnership = np.zeros(100)\n",
    "MaxOwnershipCount = 0\n",
    "GroupSize = []\n",
    "for i in range(0,1000):\n",
    "    tickets = np.random.random_sample(int(total_tickets))# this assigns ownership to nodes by index\n",
    "    winning_tickets = []\n",
    "    i = 0\n",
    "    i_val =[]\n",
    "    j_val =[]\n",
    "    for j in range(0,100,1):\n",
    "        winning_tickets.append(sum(tickets[i:i+100*j]<0.00025))\n",
    "        i_val.append(i)\n",
    "        j_val.append(j*100)\n",
    "        i = i+100*j\n",
    "        j +=1\n",
    "    GroupSize.append(sum(winning_tickets))\n",
    "    GroupMax[np.argmax(winning_tickets)] +=1\n",
    "    MaxOwnership[np.argmax(winning_tickets)]=winning_tickets[np.argmax(winning_tickets)]/sum(winning_tickets)\n",
    "    MaxOwnershipCount += np.round(winning_tickets[np.argmax(winning_tickets)]/sum(winning_tickets))\n",
    "    Totals = Totals + winning_tickets\n",
    "    \n"
   ]
  },
  {
   "cell_type": "code",
   "execution_count": 41,
   "metadata": {},
   "outputs": [
    {
     "data": {
      "image/png": "[encoded data removed]",
      "text/plain": [
       "<Figure size 432x288 with 1 Axes>"
      ]
     },
     "metadata": {
      "needs_background": "light"
     },
     "output_type": "display_data"
    }
   ],
   "source": [
    "ind = np.arange(len(winning_tickets))\n",
    "hist = plt.bar(ind,Totals)"
   ]
  },
  {
   "cell_type": "code",
   "execution_count": 42,
   "metadata": {},
   "outputs": [
    {
     "data": {
      "image/png": "[encoded data removed]",
      "text/plain": [
       "<Figure size 432x288 with 1 Axes>"
      ]
     },
     "metadata": {
      "needs_background": "light"
     },
     "output_type": "display_data"
    }
   ],
   "source": [
    "hist2 = plt.bar(ind,GroupMax)"
   ]
  },
  {
   "cell_type": "code",
   "execution_count": 43,
   "metadata": {},
   "outputs": [
    {
     "name": "stdout",
     "output_type": "stream",
     "text": [
      "Maximum times 51% ownership of a group in 1000 runs = 0.0\n",
      "Group Size Range, Max= 158Min= 88\n",
      "Maximum count 51% ownership of a group = [0.         0.         0.         0.         0.         0.\n",
      " 0.         0.         0.         0.         0.         0.\n",
      " 0.         0.         0.         0.         0.0483871  0.\n",
      " 0.04       0.         0.04032258 0.         0.03846154 0.\n",
      " 0.         0.         0.04210526 0.03875969 0.         0.\n",
      " 0.04347826 0.03361345 0.04237288 0.         0.0397351  0.02830189\n",
      " 0.03418803 0.04310345 0.03076923 0.03759398 0.03571429 0.03968254\n",
      " 0.03076923 0.03389831 0.04477612 0.03875969 0.04672897 0.04273504\n",
      " 0.03649635 0.04195804 0.05042017 0.04615385 0.04424779 0.04347826\n",
      " 0.03448276 0.04225352 0.03703704 0.0619469  0.05042017 0.04\n",
      " 0.04716981 0.04672897 0.03773585 0.05042017 0.04504505 0.0462963\n",
      " 0.03773585 0.04724409 0.05       0.04040404 0.04347826 0.04878049\n",
      " 0.05084746 0.05185185 0.04166667 0.04347826 0.05882353 0.0619469\n",
      " 0.04065041 0.05357143 0.048      0.04545455 0.04098361 0.05072464\n",
      " 0.04878049 0.0390625  0.05109489 0.0390625  0.0483871  0.04580153\n",
      " 0.05223881 0.04672897 0.06666667 0.04411765 0.07142857 0.03968254\n",
      " 0.04385965 0.06060606 0.04651163 0.04310345]\n",
      "Maximum ownership  = 0.07142857142857142\n"
     ]
    }
   ],
   "source": [
    "print(\"Maximum times 51% ownership of a group in 1000 runs = \"+str(MaxOwnershipCount))\n",
    "print(\"Group Size Range, Max= \"+str(GroupSize[np.argmax(GroupSize)])+ \"Min= \"+ str(GroupSize[np.argmin(GroupSize)]))\n",
    "print(\"Maximum count 51% ownership of a group = \"+str(MaxOwnership))\n",
    "print(\"Maximum ownership  = \"+str(MaxOwnership[np.argmax(MaxOwnership)]))\n"
   ]
  },
  {
   "cell_type": "code",
   "execution_count": 29,
   "metadata": {},
   "outputs": [
    {
     "data": {
      "text/plain": [
       "1.0"
      ]
     },
     "execution_count": 29,
     "metadata": {},
     "output_type": "execute_result"
    }
   ],
   "source": []
  },
  {
   "cell_type": "code",
   "execution_count": null,
   "metadata": {},
   "outputs": [],
   "source": []
  },
  {
   "cell_type": "code",
   "execution_count": null,
   "metadata": {},
   "outputs": [],
   "source": []
  }
 ],
 "metadata": {
  "kernelspec": {
   "display_name": "Python 3",
   "language": "python",
   "name": "python3"
  },
  "language_info": {
   "codemirror_mode": {
    "name": "ipython",
    "version": 3
   },
   "file_extension": ".py",
   "mimetype": "text/x-python",
   "name": "python",
   "nbconvert_exporter": "python",
   "pygments_lexer": "ipython3",
   "version": "3.7.1"
  }
 },
 "nbformat": 4,
 "nbformat_minor": 2
}
