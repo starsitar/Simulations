{
 "cells": [
  {
   "cell_type": "markdown",
   "metadata": {},
   "source": [
    "**Study Objectives**\n",
    "\n",
    "The study seeks to answer the following questions:\n",
    "1. What is the impact of the shape of the token distribution on the shape of the final group ticket distribution?\n",
    "2. What is the Likelihood of a >51% group ownership?\n",
    "3. Is the SHA256# truly uniformly distributed (Promethea - \"if this is not true then we can make a lot of money\" :))\n",
    "\n",
    "We attempt to answer these questions in the following ways:\n",
    "* We use a uniformly distributed set of ticket random numbers (assuming the SHA256 is uniformly distributed) and assign ownership based on several different ticket distributions, and then select a subset of minimum value into a \"group\"\n",
    "* We assume that if the shape of the ticket distribution in the group over several runs is similar to the distribution of ticket ownership it proves that the ticket ownership distribution has an impact on the final group\n",
    "* We guage the extent of the impact by determining the maximum percentage ownership of a group with respect to the maximum ticket ownership\n",
    "* We estimate the likelihood of >51% ownership by counting the number of times such a level is achieved in multiple runs.\n",
    "\n",
    "What-If analysis for the following Token distributions:\n",
    "* Linear - max 10%, 25%, 40%\n",
    "* Stepped - max 10%, 25%, 40%"
   ]
  },
  {
   "cell_type": "markdown",
   "metadata": {},
   "source": [
    "**Ticket Generation and Threshold selection**\n",
    "We use numpy's random function to generate a uniform distribution of tickets. We then iteratively determine the min threshold required for the specified group size. "
   ]
  },
  {
   "cell_type": "code",
   "execution_count": 1,
   "metadata": {},
   "outputs": [],
   "source": [
    "import numpy as np\n",
    "import matplotlib.pyplot as plt\n",
    "import copy\n",
    "import numpy as np\n",
    "import matplotlib.pyplot as plt"
   ]
  },
  {
   "cell_type": "code",
   "execution_count": 2,
   "metadata": {},
   "outputs": [],
   "source": [
    "# Function used to find the index values of tickets in a group\n",
    "def min_index(ticket_array, group_size):\n",
    "    array = copy.deepcopy(ticket_array)\n",
    "    group = sorted(array)[0:group_size] # generates a sorted list of min values of length = group size\n",
    "    #print(group)\n",
    "    indexes = [] #initializes the array of indexes for min ticket values\n",
    "    \n",
    "    for ticket in group: # iterates through each ticket value in the sorted list\n",
    "        \n",
    "        ticket_index = np.where(array==(ticket)) #finds the index with the ticket value\n",
    "        #print(\"ticket_index = \" + str(ticket_index))\n",
    "        indexes.append(ticket_index[0][0]) # adds the index value to the array of indexes\n",
    "        #print(\"indexes = \" + str(indexes))\n",
    "        array[ticket_index[0][0]] = 1 #sets the vaue at that index to the max value of 1 to address the problem of repeatd values\n",
    "        \n",
    "    #print(ticket_array_temp)\n",
    "    return sorted(indexes)\n"
   ]
  },
  {
   "cell_type": "code",
   "execution_count": 13,
   "metadata": {},
   "outputs": [],
   "source": [
    "# Global Variables\n",
    "group_size = 100 # Group size\n",
    "runs = 2 # number of runs/cycles\n",
    "total_tickets = 50000 # total virtual stakers\n",
    "nodes = 100 # number of nodes\n",
    "tickets = [] # initializing the array that will contain the tickets\n",
    "group_members = [] # initializing the array that will contain indexes(node #) of tickets for each group\n",
    "\n"
   ]
  },
  {
   "cell_type": "code",
   "execution_count": 16,
   "metadata": {},
   "outputs": [],
   "source": [
    "# Pre-processing ticket arrays & group members for each run to reduce sim time\n",
    "for i in range(0, runs):\n",
    "    tickets.append(np.random.random_sample(int(total_tickets)))"
   ]
  },
  {
   "cell_type": "code",
   "execution_count": 17,
   "metadata": {},
   "outputs": [
    {
     "name": "stdout",
     "output_type": "stream",
     "text": [
      "[[170, 381, 418, 667, 1099, 1134, 1443, 1661, 2350, 3530, 3953, 4143, 4265, 4872, 5183, 5695, 5706, 5759, 7408, 8156, 8314, 8430, 8497, 8661, 8756, 10131, 10171, 10224, 10907, 10952, 11335, 12546, 13413, 13499, 14462, 14709, 15167, 15317, 15480, 16053, 17072, 17410, 18077, 18324, 18487, 18989, 19358, 22010, 22231, 22257, 22864, 22954, 23071, 23389, 23785, 23819, 24325, 24349, 25438, 25977, 26820, 26997, 27002, 27438, 28205, 28450, 28527, 28819, 29039, 30168, 30354, 30694, 31148, 31343, 33180, 34470, 36111, 36602, 36701, 36823, 38586, 38818, 39466, 39513, 39834, 42276, 42463, 44408, 45665, 46034, 46851, 46980, 47514, 47602, 48065, 48142, 48245, 48947, 49258, 49931], [211, 293, 908, 1671, 2462, 3537, 5125, 5291, 5706, 6639, 6902, 7196, 8148, 8491, 9528, 10699, 10707, 11722, 12074, 12104, 12614, 13978, 14336, 15244, 15927, 15997, 16200, 16811, 17157, 17208, 17966, 18926, 19415, 19564, 20297, 20475, 20548, 20613, 21171, 21333, 21632, 21927, 21955, 22157, 22966, 23036, 23094, 23193, 23543, 23571, 23614, 24358, 27034, 27058, 27174, 28844, 28877, 29277, 29833, 30641, 31367, 31678, 32666, 32850, 32946, 33574, 33834, 33885, 34588, 34650, 34677, 34701, 35373, 36077, 36566, 36811, 36924, 37076, 37655, 38821, 39365, 41132, 42163, 42196, 43247, 44122, 45697, 45739, 45843, 46396, 46505, 46577, 47028, 48035, 48117, 48829, 49039, 49707, 49955, 49967]]\n"
     ]
    }
   ],
   "source": [
    "# Pre-processing groups\n",
    "for i in range(0, runs):\n",
    "    group_members.append(min_index(tickets[i],group_size)) # finds the index of group members with min ticket values\n",
    "print(group_members)\n"
   ]
  },
  {
   "cell_type": "code",
   "execution_count": 47,
   "metadata": {},
   "outputs": [
    {
     "name": "stdout",
     "output_type": "stream",
     "text": [
      "50000.0\n"
     ]
    },
    {
     "data": {
      "image/png": "[encoded data removed]",
      "text/plain": [
       "<Figure size 432x288 with 1 Axes>"
      ]
     },
     "metadata": {
      "needs_background": "light"
     },
     "output_type": "display_data"
    }
   ],
   "source": [
    "# Pre-processing distributions for total tickets = 50000\n",
    "# Linear y = m * (x + 1) since indices start from 0\n",
    "L10 = np.zeros(nodes) \n",
    "\n",
    "for i in range (0,nodes):\n",
    "    L10[i] =  10 * (i + 1) # m = 50 gives max y as 1000 which is 2% of 50000\n",
    "\n",
    "x = np.linspace(1,nodes,nodes)\n",
    "plt.subplot(3, 1, 1)\n",
    "plt.bar(x, L10)\n",
    "\n",
    "print(sum(L10-5))"
   ]
  },
  {
   "cell_type": "code",
   "execution_count": 63,
   "metadata": {},
   "outputs": [
    {
     "data": {
      "text/plain": [
       "<BarContainer object of 100 artists>"
      ]
     },
     "execution_count": 63,
     "metadata": {},
     "output_type": "execute_result"
    },
    {
     "data": {
      "image/png": "[encoded data removed]",
      "text/plain": [
       "<Figure size 432x288 with 3 Axes>"
      ]
     },
     "metadata": {
      "needs_background": "light"
     },
     "output_type": "display_data"
    }
   ],
   "source": [
    "# Pre-processing distributions for total tickets = 50000\n",
    "# Step \n",
    "S10 = np.empty(nodes)\n",
    "S10.fill(round(45000/(nodes-1)))\n",
    "S10[nodes-1] = 5000\n",
    "plt.subplot(3, 1, 1)\n",
    "plt.bar(x, S10)\n",
    "\n",
    "S25 = np.empty(nodes)\n",
    "S25.fill(round(40000/(nodes-1)))\n",
    "S25[nodes-1] = 10000\n",
    "plt.subplot(3, 1, 2)\n",
    "plt.bar(x, S25)\n",
    "\n",
    "S40 = np.empty(nodes)\n",
    "S40.fill(round(30000/(nodes-1)))\n",
    "S40[nodes-1] = 20000\n",
    "plt.subplot(3, 1, 3)\n",
    "plt.bar(x, S40)"
   ]
  },
  {
   "cell_type": "code",
   "execution_count": 57,
   "metadata": {},
   "outputs": [
    {
     "name": "stdout",
     "output_type": "stream",
     "text": [
      "[1.000e+01 3.000e+01 6.000e+01 1.000e+02 1.500e+02 2.100e+02 2.800e+02\n",
      " 3.600e+02 4.500e+02 5.500e+02 6.600e+02 7.800e+02 9.100e+02 1.050e+03\n",
      " 1.200e+03 1.360e+03 1.530e+03 1.710e+03 1.900e+03 2.100e+03 2.310e+03\n",
      " 2.530e+03 2.760e+03 3.000e+03 3.250e+03 3.510e+03 3.780e+03 4.060e+03\n",
      " 4.350e+03 4.650e+03 4.960e+03 5.280e+03 5.610e+03 5.950e+03 6.300e+03\n",
      " 6.660e+03 7.030e+03 7.410e+03 7.800e+03 8.200e+03 8.610e+03 9.030e+03\n",
      " 9.460e+03 9.900e+03 1.035e+04 1.081e+04 1.128e+04 1.176e+04 1.225e+04\n",
      " 1.275e+04 1.326e+04 1.378e+04 1.431e+04 1.485e+04 1.540e+04 1.596e+04\n",
      " 1.653e+04 1.711e+04 1.770e+04 1.830e+04 1.891e+04 1.953e+04 2.016e+04\n",
      " 2.080e+04 2.145e+04 2.211e+04 2.278e+04 2.346e+04 2.415e+04 2.485e+04\n",
      " 2.556e+04 2.628e+04 2.701e+04 2.775e+04 2.850e+04 2.926e+04 3.003e+04\n",
      " 3.081e+04 3.160e+04 3.240e+04 3.321e+04 3.403e+04 3.486e+04 3.570e+04\n",
      " 3.655e+04 3.741e+04 3.828e+04 3.916e+04 4.005e+04 4.095e+04 4.186e+04\n",
      " 4.278e+04 4.371e+04 4.465e+04 4.560e+04 4.656e+04 4.753e+04 4.851e+04\n",
      " 4.950e+04 5.050e+04]\n"
     ]
    }
   ],
   "source": [
    "# Create CDF's - used to determine max ownership ticket index\n",
    "cdf_L10 = np.zeros(nodes)\n",
    "for node,ticketmax in enumerate(L10):\n",
    "    cdf_L10[node]=sum(L10[0:node+1])\n",
    "print(cdf_L10)\n",
    "    \n"
   ]
  },
  {
   "cell_type": "code",
   "execution_count": 64,
   "metadata": {},
   "outputs": [
    {
     "data": {
      "text/plain": [
       "<BarContainer object of 100 artists>"
      ]
     },
     "execution_count": 64,
     "metadata": {},
     "output_type": "execute_result"
    },
    {
     "data": {
      "image/png": "[encoded data removed]",
      "text/plain": [
       "<Figure size 432x288 with 1 Axes>"
      ]
     },
     "metadata": {
      "needs_background": "light"
     },
     "output_type": "display_data"
    }
   ],
   "source": [
    "# calculate group ownership distributions for n runs\n",
    "# Linear\n",
    "for i in range(0,runs):\n",
    "    ownership_L10 = np.zeros(nodes)\n",
    "    ownership_L10[0] = sum(group_members[i]<cdf_L10[0])\n",
    "    for j in range(1,nodes):\n",
    "        ownership_L10[j] += sum(group_members[i]<cdf_L10[j])-sum(group_members[i]<cdf_L10[j-1])\n",
    "plt.bar(x, ownership_L10)\n",
    "    "
   ]
  },
  {
   "cell_type": "markdown",
   "metadata": {},
   "source": [
    "**Testing**"
   ]
  },
  {
   "cell_type": "code",
   "execution_count": 55,
   "metadata": {},
   "outputs": [
    {
     "name": "stdout",
     "output_type": "stream",
     "text": [
      "50000\n"
     ]
    }
   ],
   "source": [
    "# Value Checks"
   ]
  },
  {
   "cell_type": "code",
   "execution_count": 156,
   "metadata": {
    "scrolled": false
   },
   "outputs": [
    {
     "name": "stdout",
     "output_type": "stream",
     "text": [
      "[0.06343352 0.9429842  0.74289453 0.46358071 0.13515092 0.80616356\n",
      " 0.32077941 0.53155799 0.67517553 0.87720912 0.06343352 0.06343352\n",
      " 0.06343352]\n",
      "[0.06343352347826425, 0.06343352347826425, 0.06343352347826425, 0.06343352347826425]\n",
      "ticket_index = (array([ 0, 10, 11, 12]),)\n",
      "indexes = [0]\n",
      "ticket_index = (array([10, 11, 12]),)\n",
      "indexes = [0, 10]\n",
      "ticket_index = (array([11, 12]),)\n",
      "indexes = [0, 10, 11]\n",
      "ticket_index = (array([12]),)\n",
      "indexes = [0, 10, 11, 12]\n",
      "[1.         0.9429842  0.74289453 0.46358071 0.13515092 0.80616356\n",
      " 0.32077941 0.53155799 0.67517553 0.87720912 1.         1.\n",
      " 1.        ]\n",
      "[0, 10, 11, 12]\n"
     ]
    }
   ],
   "source": [
    "# testing the min index function\n",
    "a = np.random.random_sample(10)\n",
    "c = a\n",
    "a = np.append(a,np.min(a))\n",
    "a = np.append(a,np.min(a))\n",
    "a = np.append(np.min(a),a)\n",
    "print(a)\n",
    "b = min_index(a, 4)\n",
    "print(b)\n"
   ]
  },
  {
   "cell_type": "code",
   "execution_count": 31,
   "metadata": {},
   "outputs": [
    {
     "name": "stdout",
     "output_type": "stream",
     "text": [
      "[0.35159272 0.76207269 0.75798182 0.60031978 0.64440427 0.26717531\n",
      " 0.82531014 0.03046798 0.11825377 0.26868173 0.74413926 0.19232398\n",
      " 0.29635666 0.87383097 0.13044544 0.3394168  0.86215274 0.66847409\n",
      " 0.2679212  0.95484219]\n",
      "[0.35159272 0.76207269 0.75798182 0.60031978 0.64440427 0.26717531\n",
      " 0.82531014 0.03046798 0.11825377 0.26868173 0.74413926 0.19232398\n",
      " 0.29635666 0.87383097 0.13044544 0.3394168  0.86215274 0.66847409\n",
      " 0.2679212  0.95484219]\n",
      "0.030467981228564978\n",
      "0.26717531377727566\n",
      "5\n"
     ]
    }
   ],
   "source": [
    "# testing the min index function\n",
    "a = np.random.random_sample(20)\n",
    "print(a)\n",
    "b = min_index(a, 5)\n",
    "print(a)\n",
    "print(a[b[0]])\n",
    "print(a[b[-1]])\n",
    "print(sum(a<=a[b[-1]]))"
   ]
  },
  {
   "cell_type": "code",
   "execution_count": null,
   "metadata": {},
   "outputs": [],
   "source": []
  }
 ],
 "metadata": {
  "kernelspec": {
   "display_name": "Python 3",
   "language": "python",
   "name": "python3"
  },
  "language_info": {
   "codemirror_mode": {
    "name": "ipython",
    "version": 3
   },
   "file_extension": ".py",
   "mimetype": "text/x-python",
   "name": "python",
   "nbconvert_exporter": "python",
   "pygments_lexer": "ipython3",
   "version": "3.7.1"
  }
 },
 "nbformat": 4,
 "nbformat_minor": 2
}
